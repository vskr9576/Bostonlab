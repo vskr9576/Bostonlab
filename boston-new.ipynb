{
 "metadata": {
  "name": "",
  "signature": "sha256:9fff445a08bd58f95353c2400aad4feeb390e034c12facf88dcf1b894f48bfa8"
 },
 "nbformat": 3,
 "nbformat_minor": 0,
 "worksheets": [
  {
   "cells": [
    {
     "cell_type": "code",
     "collapsed": false,
     "input": [
      "from sklearn import datasets\n",
      "import pandas as pd\n",
      "from sklearn.preprocessing import StandardScaler\n",
      "from sklearn.cross_validation import train_test_split\n",
      "from sklearn.metrics import mean_squared_error\n",
      "from sklearn.metrics import r2_score\n",
      "from sklearn.linear_model import LinearRegression"
     ],
     "language": "python",
     "metadata": {},
     "outputs": [],
     "prompt_number": 3
    },
    {
     "cell_type": "code",
     "collapsed": false,
     "input": [
      "bean = datasets.load_boston()\n",
      "print bean.DESCR"
     ],
     "language": "python",
     "metadata": {},
     "outputs": [
      {
       "output_type": "stream",
       "stream": "stdout",
       "text": [
        "Boston House Prices dataset\n",
        "\n",
        "Notes\n",
        "------\n",
        "Data Set Characteristics:  \n",
        "\n",
        "    :Number of Instances: 506 \n",
        "\n",
        "    :Number of Attributes: 13 numeric/categorical predictive\n",
        "    \n",
        "    :Median Value (attribute 14) is usually the target\n",
        "\n",
        "    :Attribute Information (in order):\n",
        "        - CRIM     per capita crime rate by town\n",
        "        - ZN       proportion of residential land zoned for lots over 25,000 sq.ft.\n",
        "        - INDUS    proportion of non-retail business acres per town\n",
        "        - CHAS     Charles River dummy variable (= 1 if tract bounds river; 0 otherwise)\n",
        "        - NOX      nitric oxides concentration (parts per 10 million)\n",
        "        - RM       average number of rooms per dwelling\n",
        "        - AGE      proportion of owner-occupied units built prior to 1940\n",
        "        - DIS      weighted distances to five Boston employment centres\n",
        "        - RAD      index of accessibility to radial highways\n",
        "        - TAX      full-value property-tax rate per $10,000\n",
        "        - PTRATIO  pupil-teacher ratio by town\n",
        "        - B        1000(Bk - 0.63)^2 where Bk is the proportion of blacks by town\n",
        "        - LSTAT    % lower status of the population\n",
        "        - MEDV     Median value of owner-occupied homes in $1000's\n",
        "\n",
        "    :Missing Attribute Values: None\n",
        "\n",
        "    :Creator: Harrison, D. and Rubinfeld, D.L.\n",
        "\n",
        "This is a copy of UCI ML housing dataset.\n",
        "http://archive.ics.uci.edu/ml/datasets/Housing\n",
        "\n",
        "\n",
        "This dataset was taken from the StatLib library which is maintained at Carnegie Mellon University.\n",
        "\n",
        "The Boston house-price data of Harrison, D. and Rubinfeld, D.L. 'Hedonic\n",
        "prices and the demand for clean air', J. Environ. Economics & Management,\n",
        "vol.5, 81-102, 1978.   Used in Belsley, Kuh & Welsch, 'Regression diagnostics\n",
        "...', Wiley, 1980.   N.B. Various transformations are used in the table on\n",
        "pages 244-261 of the latter.\n",
        "\n",
        "The Boston house-price data has been used in many machine learning papers that address regression\n",
        "problems.   \n",
        "     \n",
        "**References**\n",
        "\n",
        "   - Belsley, Kuh & Welsch, 'Regression diagnostics: Identifying Influential Data and Sources of Collinearity', Wiley, 1980. 244-261.\n",
        "   - Quinlan,R. (1993). Combining Instance-Based and Model-Based Learning. In Proceedings on the Tenth International Conference of Machine Learning, 236-243, University of Massachusetts, Amherst. Morgan Kaufmann.\n",
        "   - many more! (see http://archive.ics.uci.edu/ml/datasets/Housing)\n",
        "\n"
       ]
      }
     ],
     "prompt_number": 4
    },
    {
     "cell_type": "code",
     "collapsed": false,
     "input": [
      "def load_boston():\n",
      "    scaler = StandardScaler()\n",
      "    boston = datasets.load_boston()\n",
      "    X=boston.data\n",
      "    y=boston.target\n",
      "    X = scaler.fit_transform(X)\n",
      "    return train_test_split(X,y)"
     ],
     "language": "python",
     "metadata": {},
     "outputs": [],
     "prompt_number": 5
    },
    {
     "cell_type": "code",
     "collapsed": false,
     "input": [
      "X_train, X_test, y_train, y_test = load_boston()"
     ],
     "language": "python",
     "metadata": {},
     "outputs": [],
     "prompt_number": 6
    },
    {
     "cell_type": "code",
     "collapsed": false,
     "input": [
      "X_train.shape"
     ],
     "language": "python",
     "metadata": {},
     "outputs": [
      {
       "metadata": {},
       "output_type": "pyout",
       "prompt_number": 7,
       "text": [
        "(379L, 13L)"
       ]
      }
     ],
     "prompt_number": 7
    },
    {
     "cell_type": "code",
     "collapsed": false,
     "input": [
      "clf = LinearRegression()\n",
      "clf.fit(X_train, y_train)"
     ],
     "language": "python",
     "metadata": {},
     "outputs": [
      {
       "metadata": {},
       "output_type": "pyout",
       "prompt_number": 8,
       "text": [
        "LinearRegression(copy_X=True, fit_intercept=True, normalize=False)"
       ]
      }
     ],
     "prompt_number": 8
    },
    {
     "cell_type": "code",
     "collapsed": false,
     "input": [
      "zip (y_test, clf.predict(X_test))"
     ],
     "language": "python",
     "metadata": {},
     "outputs": [
      {
       "metadata": {},
       "output_type": "pyout",
       "prompt_number": 9,
       "text": [
        "[(32.700000000000003, 30.011390278847056),\n",
        " (35.399999999999999, 30.661358662182067),\n",
        " (25.199999999999999, 27.385695619965222),\n",
        " (19.899999999999999, 19.48432400097078),\n",
        " (26.399999999999999, 28.789502069881543),\n",
        " (8.3000000000000007, 14.444410333871586),\n",
        " (21.399999999999999, 25.188575241920791),\n",
        " (19.0, 21.366724793397545),\n",
        " (24.699999999999999, 24.560034229337713),\n",
        " (23.100000000000001, 24.537358034806669),\n",
        " (21.399999999999999, 24.082481296865183),\n",
        " (22.399999999999999, 23.47208940770934),\n",
        " (14.1, 17.757693626329306),\n",
        " (24.199999999999999, 25.123859393960956),\n",
        " (10.199999999999999, 16.370946419984037),\n",
        " (20.600000000000001, 19.136526140283962),\n",
        " (31.600000000000001, 32.903056096003866),\n",
        " (13.800000000000001, 16.911509910560156),\n",
        " (22.199999999999999, 19.36974457012386),\n",
        " (30.800000000000001, 31.436001508077247),\n",
        " (11.800000000000001, 9.5417482473485293),\n",
        " (20.600000000000001, 22.220474558062914),\n",
        " (20.100000000000001, 16.199189481606794),\n",
        " (50.0, 43.061815482997652),\n",
        " (21.600000000000001, 25.298283104532185),\n",
        " (18.800000000000001, 21.538107093840836),\n",
        " (22.800000000000001, 26.67024833961581),\n",
        " (31.600000000000001, 32.436449589302562),\n",
        " (22.800000000000001, 28.870103653360587),\n",
        " (23.100000000000001, 20.572317595282712),\n",
        " (24.399999999999999, 28.848814906319571),\n",
        " (14.9, 16.9723869163846),\n",
        " (21.199999999999999, 21.588526432793721),\n",
        " (13.0, 17.164811832160193),\n",
        " (20.5, 21.485140702004347),\n",
        " (19.5, 17.775560157699061),\n",
        " (19.600000000000001, 19.842146750564439),\n",
        " (18.699999999999999, 21.156735335208726),\n",
        " (22.199999999999999, 21.883230969378655),\n",
        " (24.0, 25.509028241491059),\n",
        " (21.199999999999999, 21.867071977561253),\n",
        " (20.800000000000001, 19.070126759971984),\n",
        " (13.9, 18.307087323457388),\n",
        " (23.199999999999999, 22.324056337986971),\n",
        " (7.4000000000000004, 7.0891611458919677),\n",
        " (22.800000000000001, 24.600251753348644),\n",
        " (23.100000000000001, 24.948097467342819),\n",
        " (11.9, 22.872137358890871),\n",
        " (20.300000000000001, 24.056778780518869),\n",
        " (29.800000000000001, 25.261321930276893),\n",
        " (19.199999999999999, 20.402575357627004),\n",
        " (21.699999999999999, 20.998831658096663),\n",
        " (10.9, 19.154833234958648),\n",
        " (19.100000000000001, 19.672071336139588),\n",
        " (23.0, 30.39186175175271),\n",
        " (27.100000000000001, 27.430106391304644),\n",
        " (46.0, 40.373122204221637),\n",
        " (30.300000000000001, 32.423545027580062),\n",
        " (24.5, 20.842816862609808),\n",
        " (12.6, 18.314046735536628),\n",
        " (20.0, 22.736150652084355),\n",
        " (15.300000000000001, 20.852191154196866),\n",
        " (22.600000000000001, 22.9600818344327),\n",
        " (10.4, 18.986149708347405),\n",
        " (18.100000000000001, 17.690862551573993),\n",
        " (22.800000000000001, 28.894987142111532),\n",
        " (20.0, 20.730999881824314),\n",
        " (16.0, 18.636810254108386),\n",
        " (5.0, 12.035614977830718),\n",
        " (12.5, 19.378390194693516),\n",
        " (18.899999999999999, 24.234362901658013),\n",
        " (16.199999999999999, 20.980186188381779),\n",
        " (22.100000000000001, 27.273084133501005),\n",
        " (36.100000000000001, 33.142499590822652),\n",
        " (20.699999999999999, 26.511411434413404),\n",
        " (13.800000000000001, 20.481815218253519),\n",
        " (45.399999999999999, 38.672011198664755),\n",
        " (22.600000000000001, 18.951115850205195),\n",
        " (34.899999999999999, 29.671697436100374),\n",
        " (20.600000000000001, 16.013795158525429),\n",
        " (13.4, 13.097479217175565),\n",
        " (27.5, 20.158519114771636),\n",
        " (13.199999999999999, 8.9905124417360351),\n",
        " (13.300000000000001, 14.440095193036443),\n",
        " (19.5, 19.146193080407411),\n",
        " (23.600000000000001, 30.884574279819972),\n",
        " (42.799999999999997, 28.752622389248643),\n",
        " (7.5, 13.040317295846886),\n",
        " (50.0, 40.679105725653542),\n",
        " (18.5, 13.432172169616674),\n",
        " (24.399999999999999, 24.070003845910612),\n",
        " (26.5, 25.682313336379448),\n",
        " (14.9, 14.716968006911101),\n",
        " (18.399999999999999, 18.750254782345948),\n",
        " (17.600000000000001, 16.349333472995262),\n",
        " (17.699999999999999, 19.933661222567459),\n",
        " (35.399999999999999, 34.287741881961907),\n",
        " (34.700000000000003, 30.50856636329025),\n",
        " (8.5, 9.6124479080429772),\n",
        " (16.699999999999999, 20.577804499911984),\n",
        " (37.0, 30.350646578052626),\n",
        " (21.699999999999999, 23.21698503787832),\n",
        " (14.1, 18.527346907672097),\n",
        " (13.6, 14.128068847605103),\n",
        " (22.300000000000001, 27.194239595697589),\n",
        " (25.0, 22.078124399214573),\n",
        " (7.2000000000000002, 18.415835350236669),\n",
        " (17.800000000000001, 18.024967534262935),\n",
        " (16.5, 21.724951688399894),\n",
        " (24.800000000000001, 26.688520300355055),\n",
        " (50.0, 24.356589723533524),\n",
        " (16.199999999999999, 15.816957065855222),\n",
        " (22.0, 27.160556587056682),\n",
        " (10.5, 13.753452755354186),\n",
        " (31.5, 32.561025054052379),\n",
        " (44.799999999999997, 38.113422101146362),\n",
        " (23.100000000000001, 23.700094801517967),\n",
        " (17.399999999999999, 23.082006409400076),\n",
        " (29.100000000000001, 31.555695050795599),\n",
        " (29.600000000000001, 24.086028354963346),\n",
        " (20.300000000000001, 22.653698213874669),\n",
        " (24.100000000000001, 29.468088829728067),\n",
        " (20.600000000000001, 27.656122003465363),\n",
        " (25.0, 24.770755290043454),\n",
        " (18.0, 19.365012597736637),\n",
        " (20.0, 23.243429951725556),\n",
        " (23.699999999999999, 27.08910018933112)]"
       ]
      }
     ],
     "prompt_number": 9
    },
    {
     "cell_type": "code",
     "collapsed": false,
     "input": [
      "from sklearn import svm, cross_validation, datasets\n",
      " boston = datasets.load_boston()\n",
      " X, y = boston.data, boston.target\n",
      "model = svm.SVC()\n",
      "cross_validation.cross_val_score(model, X, y, scoring='wrong_choice')\n",
      "Traceback (most recent call last):\n",
      "ValueError: 'wrong_choice' is not a valid scoring value. Valid options are ['accuracy', 'adjusted_rand_score', 'average_precision', 'f1', 'log_loss', 'mean_absolute_error', 'mean_squared_error', 'precision', 'r2', 'recall', 'roc_auc']"
     ],
     "language": "python",
     "metadata": {},
     "outputs": [
      {
       "ename": "IndentationError",
       "evalue": "unexpected indent (<ipython-input-10-cfd24e383e4b>, line 2)",
       "output_type": "pyerr",
       "traceback": [
        "\u001b[1;36m  File \u001b[1;32m\"<ipython-input-10-cfd24e383e4b>\"\u001b[1;36m, line \u001b[1;32m2\u001b[0m\n\u001b[1;33m    boston = datasets.load_boston()\u001b[0m\n\u001b[1;37m    ^\u001b[0m\n\u001b[1;31mIndentationError\u001b[0m\u001b[1;31m:\u001b[0m unexpected indent\n"
       ]
      }
     ],
     "prompt_number": 10
    },
    {
     "cell_type": "code",
     "collapsed": false,
     "input": [
      "from sklearn import datasets\n",
      "import pandas as pd\n",
      "%pylab inline\n",
      "from sklearn.preprocessing import StandardScaler\n",
      "from sklearn.cross_validation import train_test_split\n",
      "from sklearn.metrics import mean_squared_error\n",
      "from sklearn.metrics import r2_score\n",
      "from sklearn.linear_model import LinearRegression\n",
      "from sklearn.linear_model import Lasso\n",
      "import numpy as np\n",
      "from matplotlib import pyplot as plt\n",
      "from IPython.display import display\n",
      "from sklearn.neighbors import KNeighborsRegressor\n"
     ],
     "language": "python",
     "metadata": {},
     "outputs": [
      {
       "output_type": "stream",
       "stream": "stdout",
       "text": [
        "Populating the interactive namespace from numpy and matplotlib\n"
       ]
      },
      {
       "output_type": "stream",
       "stream": "stderr",
       "text": [
        "WARNING: pylab import has clobbered these variables: ['clf']\n",
        "`%matplotlib` prevents importing * from pylab and numpy\n"
       ]
      }
     ],
     "prompt_number": 11
    },
    {
     "cell_type": "code",
     "collapsed": false,
     "input": [
      "from sklearn.datasets import load_boston\n",
      "boston = datasets.load_boston()\n",
      "print boston.DESCR"
     ],
     "language": "python",
     "metadata": {},
     "outputs": [
      {
       "output_type": "stream",
       "stream": "stdout",
       "text": [
        "Boston House Prices dataset\n",
        "\n",
        "Notes\n",
        "------\n",
        "Data Set Characteristics:  \n",
        "\n",
        "    :Number of Instances: 506 \n",
        "\n",
        "    :Number of Attributes: 13 numeric/categorical predictive\n",
        "    \n",
        "    :Median Value (attribute 14) is usually the target\n",
        "\n",
        "    :Attribute Information (in order):\n",
        "        - CRIM     per capita crime rate by town\n",
        "        - ZN       proportion of residential land zoned for lots over 25,000 sq.ft.\n",
        "        - INDUS    proportion of non-retail business acres per town\n",
        "        - CHAS     Charles River dummy variable (= 1 if tract bounds river; 0 otherwise)\n",
        "        - NOX      nitric oxides concentration (parts per 10 million)\n",
        "        - RM       average number of rooms per dwelling\n",
        "        - AGE      proportion of owner-occupied units built prior to 1940\n",
        "        - DIS      weighted distances to five Boston employment centres\n",
        "        - RAD      index of accessibility to radial highways\n",
        "        - TAX      full-value property-tax rate per $10,000\n",
        "        - PTRATIO  pupil-teacher ratio by town\n",
        "        - B        1000(Bk - 0.63)^2 where Bk is the proportion of blacks by town\n",
        "        - LSTAT    % lower status of the population\n",
        "        - MEDV     Median value of owner-occupied homes in $1000's\n",
        "\n",
        "    :Missing Attribute Values: None\n",
        "\n",
        "    :Creator: Harrison, D. and Rubinfeld, D.L.\n",
        "\n",
        "This is a copy of UCI ML housing dataset.\n",
        "http://archive.ics.uci.edu/ml/datasets/Housing\n",
        "\n",
        "\n",
        "This dataset was taken from the StatLib library which is maintained at Carnegie Mellon University.\n",
        "\n",
        "The Boston house-price data of Harrison, D. and Rubinfeld, D.L. 'Hedonic\n",
        "prices and the demand for clean air', J. Environ. Economics & Management,\n",
        "vol.5, 81-102, 1978.   Used in Belsley, Kuh & Welsch, 'Regression diagnostics\n",
        "...', Wiley, 1980.   N.B. Various transformations are used in the table on\n",
        "pages 244-261 of the latter.\n",
        "\n",
        "The Boston house-price data has been used in many machine learning papers that address regression\n",
        "problems.   \n",
        "     \n",
        "**References**\n",
        "\n",
        "   - Belsley, Kuh & Welsch, 'Regression diagnostics: Identifying Influential Data and Sources of Collinearity', Wiley, 1980. 244-261.\n",
        "   - Quinlan,R. (1993). Combining Instance-Based and Model-Based Learning. In Proceedings on the Tenth International Conference of Machine Learning, 236-243, University of Massachusetts, Amherst. Morgan Kaufmann.\n",
        "   - many more! (see http://archive.ics.uci.edu/ml/datasets/Housing)\n",
        "\n"
       ]
      }
     ],
     "prompt_number": 12
    },
    {
     "cell_type": "code",
     "collapsed": false,
     "input": [
      "train_data, test_data, train_target, test_target = \\\n",
      "train_test_split(boston.data, boston.target, train_size=.8)\n",
      "train_data.shape"
     ],
     "language": "python",
     "metadata": {},
     "outputs": [
      {
       "metadata": {},
       "output_type": "pyout",
       "prompt_number": 13,
       "text": [
        "(404L, 13L)"
       ]
      }
     ],
     "prompt_number": 13
    },
    {
     "cell_type": "code",
     "collapsed": false,
     "input": [
      "from sklearn import datasets\n",
      "boston = datasets.load_boston()\n",
      "X = boston.data\n",
      "y = boston.target\n",
      "\n",
      "print X.shape\n",
      "print y.shape"
     ],
     "language": "python",
     "metadata": {},
     "outputs": [
      {
       "output_type": "stream",
       "stream": "stdout",
       "text": [
        "(506L, 13L)\n",
        "(506L,)\n"
       ]
      }
     ],
     "prompt_number": 14
    },
    {
     "cell_type": "code",
     "collapsed": false,
     "input": [
      "plt.hist(y, alpha=1.0)\n",
      "plt.show()"
     ],
     "language": "python",
     "metadata": {},
     "outputs": [
      {
       "metadata": {},
       "output_type": "display_data",
       "png": "[encoded data removed]",
       "text": [
        "<matplotlib.figure.Figure at 0x16140cf8>"
       ]
      }
     ],
     "prompt_number": 15
    },
    {
     "cell_type": "code",
     "collapsed": false,
     "input": [
      "def load_boston():\n",
      "    scaler = StandardScaler()\n",
      "    boston = datasets.load_boston()\n",
      "    X=boston.data\n",
      "    y=boston.target\n",
      "    X = scaler.fit_transform(X)\n",
      "    return train_test_split(X,y)\n",
      "X_train, X_test, y_train, y_test = load_boston()\n",
      "X_train.shape\n",
      "clf = LinearRegression()\n",
      "clf.fit(X_train, y_train)\n",
      "zip (y_test, clf.predict(X_test))\n"
     ],
     "language": "python",
     "metadata": {},
     "outputs": [
      {
       "metadata": {},
       "output_type": "pyout",
       "prompt_number": 16,
       "text": [
        "[(19.600000000000001, 17.893358968474583),\n",
        " (22.5, 29.942309656411517),\n",
        " (19.5, 17.527268638610135),\n",
        " (18.0, 18.936153711721563),\n",
        " (13.1, 15.809352136242666),\n",
        " (22.0, 28.059729440145695),\n",
        " (23.699999999999999, 26.913068118933431),\n",
        " (23.300000000000001, 24.928725359929857),\n",
        " (11.699999999999999, 16.043724988885913),\n",
        " (21.399999999999999, 20.081844242258278),\n",
        " (21.0, 20.712274499984339),\n",
        " (13.800000000000001, 12.070902495395165),\n",
        " (50.0, 30.875398429822738),\n",
        " (46.0, 38.55502304427759),\n",
        " (16.600000000000001, 18.684087063008885),\n",
        " (23.0, 23.519557853072275),\n",
        " (24.800000000000001, 25.006980470396954),\n",
        " (23.399999999999999, 23.951232213773253),\n",
        " (20.300000000000001, 23.720667087506708),\n",
        " (24.800000000000001, 31.523022548699647),\n",
        " (7.4000000000000004, 6.3125954424794699),\n",
        " (6.2999999999999998, 11.082383468316003),\n",
        " (23.100000000000001, 23.47297259923738),\n",
        " (15.199999999999999, 16.055578835213055),\n",
        " (25.0, 28.229265315087869),\n",
        " (46.700000000000003, 34.289638706671425),\n",
        " (20.100000000000001, 21.350846080821459),\n",
        " (26.600000000000001, 22.18677473092297),\n",
        " (23.100000000000001, 24.70007388710281),\n",
        " (35.100000000000001, 35.169412312635664),\n",
        " (19.100000000000001, 17.246965760292518),\n",
        " (20.399999999999999, 20.569207731717427),\n",
        " (21.699999999999999, 21.585949693729017),\n",
        " (13.1, 13.953756407422762),\n",
        " (19.899999999999999, 19.285926124404476),\n",
        " (20.699999999999999, 24.89573598194632),\n",
        " (28.5, 33.957064367979925),\n",
        " (23.100000000000001, 16.774295315136197),\n",
        " (19.5, 20.169967141030501),\n",
        " (17.100000000000001, 19.335711902701213),\n",
        " (19.0, 21.174628329942983),\n",
        " (26.5, 25.153766382997315),\n",
        " (16.199999999999999, 15.566632685508178),\n",
        " (50.0, 41.994701275683425),\n",
        " (12.800000000000001, 13.208641055207718),\n",
        " (13.4, 16.427886517287948),\n",
        " (17.5, 16.785903601259587),\n",
        " (21.399999999999999, 24.074905932470042),\n",
        " (20.300000000000001, 22.679153707945403),\n",
        " (27.5, 24.254167459676783),\n",
        " (17.199999999999999, 17.288494312397955),\n",
        " (22.300000000000001, 28.059927325302713),\n",
        " (17.5, 18.654988800297382),\n",
        " (43.100000000000001, 36.53276328105747),\n",
        " (10.9, 14.217893102468917),\n",
        " (37.200000000000003, 32.360000721877199),\n",
        " (18.5, 19.85704225726478),\n",
        " (22.199999999999999, 24.354987224785454),\n",
        " (22.800000000000001, 26.262965360383493),\n",
        " (50.0, 38.492753145145024),\n",
        " (41.700000000000003, 36.928301356134227),\n",
        " (18.899999999999999, 23.934696145277439),\n",
        " (26.199999999999999, 24.012825991073768),\n",
        " (23.399999999999999, 24.417931426958383),\n",
        " (29.600000000000001, 24.858726134730389),\n",
        " (23.300000000000001, 25.468093114989994),\n",
        " (19.399999999999999, 23.500313991098508),\n",
        " (21.399999999999999, 23.007370073214393),\n",
        " (16.100000000000001, 18.971226141311938),\n",
        " (38.700000000000003, 34.878288986618408),\n",
        " (48.299999999999997, 36.090673437728213),\n",
        " (13.4, 13.415740150409318),\n",
        " (8.0999999999999996, 4.7242119143636145),\n",
        " (18.399999999999999, 16.072095240379038),\n",
        " (23.0, 23.388364786803287),\n",
        " (24.199999999999999, 25.005456543323245),\n",
        " (20.199999999999999, 16.334138566362661),\n",
        " (18.5, 25.157443977879936),\n",
        " (22.600000000000001, 26.65721668863933),\n",
        " (15.199999999999999, 19.102378385123068),\n",
        " (14.1, 18.880436568797791),\n",
        " (28.100000000000001, 25.032785417938534),\n",
        " (32.200000000000003, 32.305932478491705),\n",
        " (18.300000000000001, 19.175956934111412),\n",
        " (24.0, 29.846724895440335),\n",
        " (12.699999999999999, 12.979288289969702),\n",
        " (16.699999999999999, 20.524559943453951),\n",
        " (35.399999999999999, 31.714950601489004),\n",
        " (26.399999999999999, 23.239229038926375),\n",
        " (20.800000000000001, 18.256896966193697),\n",
        " (19.800000000000001, 22.605156710607154),\n",
        " (30.5, 30.508782128426937),\n",
        " (21.100000000000001, 20.460084172608081),\n",
        " (23.300000000000001, 22.059779419183847),\n",
        " (50.0, 39.861349318201661),\n",
        " (5.0, 7.1063303885797371),\n",
        " (50.0, 24.594503526672085),\n",
        " (33.399999999999999, 28.081915217274393),\n",
        " (10.5, 12.753131204839658),\n",
        " (21.199999999999999, 21.173648595098367),\n",
        " (11.9, 22.301994081283052),\n",
        " (18.300000000000001, 20.742551644559548),\n",
        " (14.9, 17.023671101135236),\n",
        " (19.899999999999999, 17.823539503734533),\n",
        " (16.399999999999999, 18.731066983940071),\n",
        " (22.600000000000001, 18.791803205456251),\n",
        " (21.5, 20.473610026142822),\n",
        " (30.699999999999999, 30.942609499418001),\n",
        " (11.699999999999999, 15.317010744867661),\n",
        " (22.899999999999999, 23.43960885109599),\n",
        " (33.100000000000001, 33.50476531480335),\n",
        " (10.9, 18.341306446356192),\n",
        " (11.300000000000001, 13.77039095633314),\n",
        " (27.5, 30.517163472638131),\n",
        " (22.0, 29.289747518213865),\n",
        " (17.100000000000001, 17.028748554465768),\n",
        " (25.0, 25.791166979191125),\n",
        " (23.5, 31.239485151550557),\n",
        " (30.800000000000001, 31.867526493615884),\n",
        " (18.800000000000001, 21.085856714623368),\n",
        " (19.699999999999999, 21.922498351260412),\n",
        " (17.199999999999999, 14.381380373278814),\n",
        " (12.6, 17.889709830415946),\n",
        " (25.100000000000001, 28.626695268955636),\n",
        " (16.699999999999999, 19.390148928161015),\n",
        " (20.100000000000001, 24.532254926462087),\n",
        " (20.800000000000001, 23.546602577185624)]"
       ]
      }
     ],
     "prompt_number": 16
    },
    {
     "cell_type": "code",
     "collapsed": false,
     "input": [
      "from sklearn import linear_model\n",
      "linreg = linear_model.LinearRegression()"
     ],
     "language": "python",
     "metadata": {},
     "outputs": [],
     "prompt_number": 17
    },
    {
     "cell_type": "code",
     "collapsed": false,
     "input": [
      "_=linreg.fit(train_data, train_target)"
     ],
     "language": "python",
     "metadata": {},
     "outputs": [],
     "prompt_number": 18
    },
    {
     "cell_type": "code",
     "collapsed": false,
     "input": [
      "from sklearn import metrics\n",
      "mse = metrics.mean_squared_error(test_target, linreg.predict(test_data)) \n",
      "print(\"MSE is {}\".format(mse))"
     ],
     "language": "python",
     "metadata": {},
     "outputs": [
      {
       "output_type": "stream",
       "stream": "stdout",
       "text": [
        "MSE is 17.7383739087\n"
       ]
      }
     ],
     "prompt_number": 19
    },
    {
     "cell_type": "code",
     "collapsed": false,
     "input": [
      "rmse = np.sqrt(mse) \n",
      "print(\"RMSE is {}\".format(rmse))"
     ],
     "language": "python",
     "metadata": {},
     "outputs": [
      {
       "output_type": "stream",
       "stream": "stdout",
       "text": [
        "RMSE is 4.21169489739\n"
       ]
      }
     ],
     "prompt_number": 20
    },
    {
     "cell_type": "code",
     "collapsed": false,
     "input": [
      "linreg.fit(train_data, train_target)\n",
      "r2_train = metrics.r2_score(train_target, linreg.predict(train_data))\n",
      "r2_test = metrics.r2_score(test_target, linreg.predict(test_data))\n",
      "\n",
      "print(\"R2 on training: {:.2%}\".format(r2_train))\n",
      "print(\"R2 on testing: {:.2%}\".format(r2_test))"
     ],
     "language": "python",
     "metadata": {},
     "outputs": [
      {
       "output_type": "stream",
       "stream": "stdout",
       "text": [
        "R2 on training: 72.84%\n",
        "R2 on testing: 76.51%\n"
       ]
      }
     ],
     "prompt_number": 21
    },
    {
     "cell_type": "code",
     "collapsed": false,
     "input": [
      "lasso = linear_model.Lasso()\n",
      "lasso.fit(train_data, train_target)"
     ],
     "language": "python",
     "metadata": {},
     "outputs": [
      {
       "metadata": {},
       "output_type": "pyout",
       "prompt_number": 22,
       "text": [
        "Lasso(alpha=1.0, copy_X=True, fit_intercept=True, max_iter=1000,\n",
        "   normalize=False, positive=False, precompute='auto', tol=0.0001,\n",
        "   warm_start=False)"
       ]
      }
     ],
     "prompt_number": 22
    },
    {
     "cell_type": "code",
     "collapsed": false,
     "input": [
      "lasso = linear_model.Lasso(alpha=0.1)\n",
      "lasso.fit(train_data, train_target)"
     ],
     "language": "python",
     "metadata": {},
     "outputs": [
      {
       "metadata": {},
       "output_type": "pyout",
       "prompt_number": 23,
       "text": [
        "Lasso(alpha=0.1, copy_X=True, fit_intercept=True, max_iter=1000,\n",
        "   normalize=False, positive=False, precompute='auto', tol=0.0001,\n",
        "   warm_start=False)"
       ]
      }
     ],
     "prompt_number": 23
    },
    {
     "cell_type": "code",
     "collapsed": false,
     "input": [
      "fig,ax = plt.subplots()\n",
      "ax.plot(train_data.ptp(axis=0))\n",
      "ax.set_xticklabels(boston.feature_names)\n",
      "ax.set_xticks(np.arange(train_data.shape[1]))\n",
      "ax.set_ylabel('Max-min')"
     ],
     "language": "python",
     "metadata": {},
     "outputs": [
      {
       "metadata": {},
       "output_type": "pyout",
       "prompt_number": 24,
       "text": [
        "<matplotlib.text.Text at 0x175796a0>"
       ]
      },
      {
       "metadata": {},
       "output_type": "display_data",
       "png": "[encoded data removed]",
       "text": [
        "<matplotlib.figure.Figure at 0x17491198>"
       ]
      }
     ],
     "prompt_number": 24
    },
    {
     "cell_type": "code",
     "collapsed": false,
     "input": [
      "lasso = linear_model.Lasso(normalize=True, alpha=1.0)\n",
      "lasso.fit(train_data, train_target)"
     ],
     "language": "python",
     "metadata": {},
     "outputs": [
      {
       "metadata": {},
       "output_type": "pyout",
       "prompt_number": 25,
       "text": [
        "Lasso(alpha=1.0, copy_X=True, fit_intercept=True, max_iter=1000,\n",
        "   normalize=True, positive=False, precompute='auto', tol=0.0001,\n",
        "   warm_start=False)"
       ]
      }
     ],
     "prompt_number": 25
    },
    {
     "cell_type": "code",
     "collapsed": false,
     "input": [
      "lasso = linear_model.Lasso(normalize=True, alpha=10.0)\n",
      "lasso.fit(train_data, train_target)"
     ],
     "language": "python",
     "metadata": {},
     "outputs": [
      {
       "metadata": {},
       "output_type": "pyout",
       "prompt_number": 26,
       "text": [
        "Lasso(alpha=10.0, copy_X=True, fit_intercept=True, max_iter=1000,\n",
        "   normalize=True, positive=False, precompute='auto', tol=0.0001,\n",
        "   warm_start=False)"
       ]
      }
     ],
     "prompt_number": 26
    },
    {
     "cell_type": "code",
     "collapsed": false,
     "input": [
      "lasso = linear_model.Lasso(normalize=True, alpha=15.0)\n",
      "lasso.fit(train_data, train_target)"
     ],
     "language": "python",
     "metadata": {},
     "outputs": [
      {
       "metadata": {},
       "output_type": "pyout",
       "prompt_number": 27,
       "text": [
        "Lasso(alpha=15.0, copy_X=True, fit_intercept=True, max_iter=1000,\n",
        "   normalize=True, positive=False, precompute='auto', tol=0.0001,\n",
        "   warm_start=False)"
       ]
      }
     ],
     "prompt_number": 27
    },
    {
     "cell_type": "code",
     "collapsed": false,
     "input": [
      "lasso = linear_model.Lasso(normalize=True, alpha=1.0)\n",
      "lasso.fit(train_data, train_target)"
     ],
     "language": "python",
     "metadata": {},
     "outputs": [
      {
       "metadata": {},
       "output_type": "pyout",
       "prompt_number": 28,
       "text": [
        "Lasso(alpha=1.0, copy_X=True, fit_intercept=True, max_iter=1000,\n",
        "   normalize=True, positive=False, precompute='auto', tol=0.0001,\n",
        "   warm_start=False)"
       ]
      }
     ],
     "prompt_number": 28
    },
    {
     "cell_type": "code",
     "collapsed": false,
     "input": [
      "results = \"\"\"\\\n",
      "      | TRAINING | TESTING\n",
      "------+----------+---------\n",
      "Lasso | {:.2%}   | {:.2%}\n",
      "---------------------------\n",
      "\"\"\".format(r2_lasso_train, r2_lasso)\n",
      "print(results)"
     ],
     "language": "python",
     "metadata": {},
     "outputs": [
      {
       "output_type": "stream",
       "stream": "stderr",
       "text": [
        "ERROR: An unexpected error occurred while tokenizing input\n",
        "The following traceback may be corrupted or invalid\n",
        "The error message is: ('EOF in multi-line string', (1, 0))\n",
        "\n"
       ]
      },
      {
       "ename": "NameError",
       "evalue": "name 'r2_lasso_train' is not defined",
       "output_type": "pyerr",
       "traceback": [
        "\u001b[1;31m---------------------------------------------------------------------------\u001b[0m\n\u001b[1;31mNameError\u001b[0m                                 Traceback (most recent call last)",
        "\u001b[1;32m<ipython-input-29-7597d6c9e6fa>\u001b[0m in \u001b[0;36m<module>\u001b[1;34m()\u001b[0m\n\u001b[0;32m      3\u001b[0m \u001b[0mLasso\u001b[0m \u001b[1;33m|\u001b[0m \u001b[1;33m{\u001b[0m\u001b[1;33m:\u001b[0m\u001b[1;36m.2\u001b[0m\u001b[1;33m%\u001b[0m\u001b[1;33m}\u001b[0m   \u001b[1;33m|\u001b[0m \u001b[1;33m{\u001b[0m\u001b[1;33m:\u001b[0m\u001b[1;36m.2\u001b[0m\u001b[1;33m%\u001b[0m\u001b[1;33m}\u001b[0m\u001b[1;33m\u001b[0m\u001b[0m\n\u001b[0;32m      4\u001b[0m \u001b[1;33m-\u001b[0m\u001b[1;33m-\u001b[0m\u001b[1;33m-\u001b[0m\u001b[1;33m-\u001b[0m\u001b[1;33m-\u001b[0m\u001b[1;33m-\u001b[0m\u001b[1;33m-\u001b[0m\u001b[1;33m-\u001b[0m\u001b[1;33m-\u001b[0m\u001b[1;33m-\u001b[0m\u001b[1;33m-\u001b[0m\u001b[1;33m-\u001b[0m\u001b[1;33m-\u001b[0m\u001b[1;33m-\u001b[0m\u001b[1;33m-\u001b[0m\u001b[1;33m-\u001b[0m\u001b[1;33m-\u001b[0m\u001b[1;33m-\u001b[0m\u001b[1;33m-\u001b[0m\u001b[1;33m-\u001b[0m\u001b[1;33m-\u001b[0m\u001b[1;33m-\u001b[0m\u001b[1;33m-\u001b[0m\u001b[1;33m-\u001b[0m\u001b[1;33m-\u001b[0m\u001b[1;33m-\u001b[0m\u001b[1;33m-\u001b[0m\u001b[1;33m\u001b[0m\u001b[0m\n\u001b[1;32m----> 5\u001b[1;33m \"\"\".format(r2_lasso_train, r2_lasso)\n\u001b[0m\u001b[0;32m      6\u001b[0m \u001b[1;32mprint\u001b[0m\u001b[1;33m(\u001b[0m\u001b[0mresults\u001b[0m\u001b[1;33m)\u001b[0m\u001b[1;33m\u001b[0m\u001b[0m\n",
        "\u001b[1;31mNameError\u001b[0m: name 'r2_lasso_train' is not defined"
       ]
      }
     ],
     "prompt_number": 29
    },
    {
     "cell_type": "code",
     "collapsed": false,
     "input": [
      "lasso.fit(train_data, train_target)\n",
      "r2_lasso_train = lasso.score(train_data, train_target)\n",
      "r2_lasso = lasso.score(test_data, test_target)"
     ],
     "language": "python",
     "metadata": {},
     "outputs": [],
     "prompt_number": 30
    },
    {
     "cell_type": "code",
     "collapsed": false,
     "input": [
      "results = \"\"\"\\\n",
      "      | TRAINING | TESTING\n",
      "------+----------+---------\n",
      "Lasso | {:.2%}   | {:.2%}\n",
      "---------------------------\n",
      "\"\"\".format(r2_lasso_train, r2_lasso)\n",
      "print(results)"
     ],
     "language": "python",
     "metadata": {},
     "outputs": [
      {
       "output_type": "stream",
       "stream": "stdout",
       "text": [
        "      | TRAINING | TESTING\n",
        "------+----------+---------\n",
        "Lasso | 0.00%   | -0.58%\n",
        "---------------------------\n",
        "\n"
       ]
      }
     ],
     "prompt_number": 31
    },
    {
     "cell_type": "code",
     "collapsed": false,
     "input": [
      "lasso = linear_model.Lasso(normalize=True, alpha=10.0)\n",
      "lasso.fit(train_data, train_target)"
     ],
     "language": "python",
     "metadata": {},
     "outputs": [
      {
       "metadata": {},
       "output_type": "pyout",
       "prompt_number": 32,
       "text": [
        "Lasso(alpha=10.0, copy_X=True, fit_intercept=True, max_iter=1000,\n",
        "   normalize=True, positive=False, precompute='auto', tol=0.0001,\n",
        "   warm_start=False)"
       ]
      }
     ],
     "prompt_number": 32
    },
    {
     "cell_type": "code",
     "collapsed": false,
     "input": [
      "lasso.fit(train_data, train_target)\n",
      "r2_lasso_train = lasso.score(train_data, train_target)\n",
      "r2_lasso = lasso.score(test_data, test_target)"
     ],
     "language": "python",
     "metadata": {},
     "outputs": [],
     "prompt_number": 33
    },
    {
     "cell_type": "code",
     "collapsed": false,
     "input": [
      "results = \"\"\"\\\n",
      "      | TRAINING | TESTING\n",
      "------+----------+---------\n",
      "Lasso | {:.5%}   | {:.5%}\n",
      "---------------------------\n",
      "\"\"\".format(r2_lasso_train, r2_lasso)\n",
      "print(results)"
     ],
     "language": "python",
     "metadata": {},
     "outputs": [
      {
       "output_type": "stream",
       "stream": "stdout",
       "text": [
        "      | TRAINING | TESTING\n",
        "------+----------+---------\n",
        "Lasso | 0.00000%   | -0.57682%\n",
        "---------------------------\n",
        "\n"
       ]
      }
     ],
     "prompt_number": 34
    },
    {
     "cell_type": "code",
     "collapsed": false,
     "input": [
      "results = \"\"\"\\\n",
      "      | TRAINING | TESTING\n",
      "------+----------+---------\n",
      "Lasso | {:.2%}   | {:.2%}\n",
      "---------------------------\n",
      "\"\"\".format(r2_lasso_train, r2_lasso)\n",
      "print(results)"
     ],
     "language": "python",
     "metadata": {},
     "outputs": [
      {
       "output_type": "stream",
       "stream": "stdout",
       "text": [
        "      | TRAINING | TESTING\n",
        "------+----------+---------\n",
        "Lasso | 0.00%   | -0.58%\n",
        "---------------------------\n",
        "\n"
       ]
      }
     ],
     "prompt_number": 35
    },
    {
     "cell_type": "code",
     "collapsed": false,
     "input": [
      "lasso = linear_model.Lasso(normalize=True, alpha=1.0)\n",
      "lasso.fit(train_data, train_target)"
     ],
     "language": "python",
     "metadata": {},
     "outputs": [
      {
       "metadata": {},
       "output_type": "pyout",
       "prompt_number": 36,
       "text": [
        "Lasso(alpha=1.0, copy_X=True, fit_intercept=True, max_iter=1000,\n",
        "   normalize=True, positive=False, precompute='auto', tol=0.0001,\n",
        "   warm_start=False)"
       ]
      }
     ],
     "prompt_number": 36
    },
    {
     "cell_type": "code",
     "collapsed": false,
     "input": [
      "lasso.fit(train_data, train_target)\n",
      "r2_lasso_train = lasso.score(train_data, train_target)\n",
      "r2_lasso = lasso.score(test_data, test_target)"
     ],
     "language": "python",
     "metadata": {},
     "outputs": [],
     "prompt_number": 37
    },
    {
     "cell_type": "code",
     "collapsed": false,
     "input": [
      "results = \"\"\"\\\n",
      "      | TRAINING | TESTING\n",
      "------+----------+---------\n",
      "Lasso | {:.2%}   | {:.2%}\n",
      "---------------------------\n",
      "\"\"\".format(r2_lasso_train, r2_lasso)\n",
      "print(results)"
     ],
     "language": "python",
     "metadata": {},
     "outputs": [
      {
       "output_type": "stream",
       "stream": "stdout",
       "text": [
        "      | TRAINING | TESTING\n",
        "------+----------+---------\n",
        "Lasso | 0.00%   | -0.58%\n",
        "---------------------------\n",
        "\n"
       ]
      }
     ],
     "prompt_number": 38
    },
    {
     "cell_type": "code",
     "collapsed": false,
     "input": [
      "ridge = linear_model.Ridge(normalize=True, alpha=.1)\n",
      "\n",
      "ridge.fit(train_data, train_target)\n",
      "r2_ridge_train = ridge.score(train_data, train_target)\n",
      "r2_ridge = ridge.score(test_data, test_target)"
     ],
     "language": "python",
     "metadata": {},
     "outputs": [],
     "prompt_number": 39
    },
    {
     "cell_type": "code",
     "collapsed": false,
     "input": [
      "results = \"\"\"\\\n",
      "      | TRAINING | TESTING\n",
      "------+----------+---------\n",
      "Lasso | {:.2%}   | {:.2%}\n",
      "------+----------+---------\n",
      "Ridge | {:.2%}   | {:.2%}\n",
      "---------------------------\n",
      "\"\"\".format(r2_lasso_train, r2_lasso,\n",
      "           r2_ridge_train, r2_ridge)\n",
      "print(results)"
     ],
     "language": "python",
     "metadata": {},
     "outputs": [
      {
       "output_type": "stream",
       "stream": "stdout",
       "text": [
        "      | TRAINING | TESTING\n",
        "------+----------+---------\n",
        "Lasso | 0.00%   | -0.58%\n",
        "------+----------+---------\n",
        "Ridge | 71.78%   | 78.81%\n",
        "---------------------------\n",
        "\n"
       ]
      }
     ],
     "prompt_number": 40
    },
    {
     "cell_type": "code",
     "collapsed": false,
     "input": [
      "lasso = linear_model.Lasso(normalize=True, alpha=0.1)\n",
      "lasso.fit(train_data, train_target)"
     ],
     "language": "python",
     "metadata": {},
     "outputs": [
      {
       "metadata": {},
       "output_type": "pyout",
       "prompt_number": 41,
       "text": [
        "Lasso(alpha=0.1, copy_X=True, fit_intercept=True, max_iter=1000,\n",
        "   normalize=True, positive=False, precompute='auto', tol=0.0001,\n",
        "   warm_start=False)"
       ]
      }
     ],
     "prompt_number": 41
    },
    {
     "cell_type": "code",
     "collapsed": false,
     "input": [
      "lasso.fit(train_data, train_target)\n",
      "\n",
      "r2_lasso_train = lasso.score(train_data, train_target)\n",
      "r2_lasso = lasso.score(test_data, test_target)"
     ],
     "language": "python",
     "metadata": {},
     "outputs": [],
     "prompt_number": 42
    },
    {
     "cell_type": "code",
     "collapsed": false,
     "input": [
      "results = \"\"\"\\\n",
      "      | TRAINING | TESTING\n",
      "------+----------+---------\n",
      "Lasso | {:.2%}   | {:.2%}\n",
      "---------------------------\n",
      "\"\"\".format(r2_lasso_train, r2_lasso)\n",
      "print(results)"
     ],
     "language": "python",
     "metadata": {},
     "outputs": [
      {
       "output_type": "stream",
       "stream": "stdout",
       "text": [
        "      | TRAINING | TESTING\n",
        "------+----------+---------\n",
        "Lasso | 58.75%   | 67.17%\n",
        "---------------------------\n",
        "\n"
       ]
      }
     ],
     "prompt_number": 43
    },
    {
     "cell_type": "code",
     "collapsed": false,
     "input": [
      "results = \"\"\"\\\n",
      "      | TRAINING | TESTING\n",
      "------+----------+---------\n",
      "Lasso | {:.2%}   | {:.2%}\n",
      "------+----------+---------\n",
      "Ridge | {:.2%}   | {:.2%}\n",
      "---------------------------\n",
      "\"\"\".format(r2_lasso_train, r2_lasso,\n",
      "           r2_ridge_train, r2_ridge)\n",
      "print(results)"
     ],
     "language": "python",
     "metadata": {},
     "outputs": [
      {
       "output_type": "stream",
       "stream": "stdout",
       "text": [
        "      | TRAINING | TESTING\n",
        "------+----------+---------\n",
        "Lasso | 58.75%   | 67.17%\n",
        "------+----------+---------\n",
        "Ridge | 71.78%   | 78.81%\n",
        "---------------------------\n",
        "\n"
       ]
      }
     ],
     "prompt_number": 44
    },
    {
     "cell_type": "code",
     "collapsed": false,
     "input": [
      "lasso.alpha = 0.1\n",
      "lasso.fit(train_data, train_target)\n",
      "ridge.alpha = 0.1\n",
      "ridge.fit(train_data, train_target)"
     ],
     "language": "python",
     "metadata": {},
     "outputs": [
      {
       "metadata": {},
       "output_type": "pyout",
       "prompt_number": 45,
       "text": [
        "Ridge(alpha=0.1, copy_X=True, fit_intercept=True, max_iter=None,\n",
        "   normalize=True, solver='auto', tol=0.001)"
       ]
      }
     ],
     "prompt_number": 45
    },
    {
     "cell_type": "code",
     "collapsed": false,
     "input": [
      "fig,ax = plt.subplots()\n",
      "ax.plot(lasso.coef_, label=r'Lasso ($\\alpha$=0.1)')\n",
      "ax.plot(ridge.coef_, label=r'Ridge ($\\alpha$=0.1)')\n",
      "ax.set_xticklabels(boston.feature_names)\n",
      "ax.set_xticks(np.arange(train_data.shape[1]))\n",
      "ax.legend(loc='best')"
     ],
     "language": "python",
     "metadata": {},
     "outputs": [
      {
       "metadata": {},
       "output_type": "pyout",
       "prompt_number": 46,
       "text": [
        "<matplotlib.legend.Legend at 0x17693c88>"
       ]
      },
      {
       "metadata": {},
       "output_type": "display_data",
       "png": "[encoded data removed]",
       "text": [
        "<matplotlib.figure.Figure at 0x176119e8>"
       ]
      }
     ],
     "prompt_number": 46
    },
    {
     "cell_type": "code",
     "collapsed": false,
     "input": [
      "fig,ax = plt.subplots()\n",
      "ax.plot(lasso.coef_, label=r'Lasso ($\\alpha$=10.0)')\n",
      "ax.plot(ridge.coef_, label=r'Ridge ($\\alpha$=10.0)')\n",
      "ax.set_xticklabels(boston.feature_names)\n",
      "ax.set_xticks(np.arange(train_data.shape[1]))\n",
      "ax.legend(loc='best')"
     ],
     "language": "python",
     "metadata": {},
     "outputs": [
      {
       "metadata": {},
       "output_type": "pyout",
       "prompt_number": 47,
       "text": [
        "<matplotlib.legend.Legend at 0x17bf5cc0>"
       ]
      },
      {
       "metadata": {},
       "output_type": "display_data",
       "png": "[encoded data removed]",
       "text": [
        "<matplotlib.figure.Figure at 0x179aa6d8>"
       ]
      }
     ],
     "prompt_number": 47
    },
    {
     "cell_type": "code",
     "collapsed": false,
     "input": [
      "from sklearn.metrics import r2_score\n",
      "y_true = [3, -0.5, 2, 7]\n",
      "y_pred = [2.5, 0.0, 2, 8]\n",
      "r2_score(y_true, y_pred)  "
     ],
     "language": "python",
     "metadata": {},
     "outputs": [
      {
       "metadata": {},
       "output_type": "pyout",
       "prompt_number": 48,
       "text": [
        "0.94860813704496794"
       ]
      }
     ],
     "prompt_number": 48
    },
    {
     "cell_type": "code",
     "collapsed": false,
     "input": [
      "from sklearn.metrics import mean_squared_error\n",
      "y_true = [3, -1, 6, 4]\n",
      "y_pred = [2.5, 1, 2, 8]\n",
      "mean_squared_error(y_true, y_pred)"
     ],
     "language": "python",
     "metadata": {},
     "outputs": [
      {
       "metadata": {},
       "output_type": "pyout",
       "prompt_number": 49,
       "text": [
        "9.0625"
       ]
      }
     ],
     "prompt_number": 49
    },
    {
     "cell_type": "code",
     "collapsed": false,
     "input": [
      "y_true = [[-0.5, 1],[-1, 1],[7, -6]]\n",
      "y_pred = [[0, -2],[-1, 2],[8, -5]]\n",
      "mean_squared_error(y_true, y_pred)"
     ],
     "language": "python",
     "metadata": {},
     "outputs": [
      {
       "metadata": {},
       "output_type": "pyout",
       "prompt_number": 50,
       "text": [
        "2.0416666666666665"
       ]
      }
     ],
     "prompt_number": 50
    },
    {
     "cell_type": "code",
     "collapsed": false,
     "input": [
      "from sklearn.datasets import *\n",
      "from sklearn.linear_model import LinearRegression\n",
      "\n",
      "data = load_boston()\n",
      "model = LinearRegression()\n",
      "model.fit(data.data, data.target)\n",
      "print model.__dict__\n",
      "print model.score(data.data, data.target)"
     ],
     "language": "python",
     "metadata": {},
     "outputs": [
      {
       "output_type": "stream",
       "stream": "stdout",
       "text": [
        "{'normalize': False, 'intercept_': 36.491103280360925, 'residues_': 11080.276284149873, 'fit_intercept': True, 'coef_': array([ -1.07170557e-01,   4.63952195e-02,   2.08602395e-02,\n",
        "         2.68856140e+00,  -1.77957587e+01,   3.80475246e+00,\n",
        "         7.51061703e-04,  -1.47575880e+00,   3.05655038e-01,\n",
        "        -1.23293463e-02,  -9.53463555e-01,   9.39251272e-03,\n",
        "        -5.25466633e-01]), 'copy_X': True, 'rank_': 13, 'singular_': array([  3.94958310e+03,   1.77662274e+03,   6.42864253e+02,\n",
        "         3.66980826e+02,   1.59116390e+02,   1.18692322e+02,\n",
        "         9.01718207e+01,   6.93889529e+01,   4.06572735e+01,\n",
        "         2.44223087e+01,   1.13502686e+01,   5.50918200e+00,\n",
        "         1.24178413e+00])}\n",
        "0.740607742865\n"
       ]
      }
     ],
     "prompt_number": 51
    },
    {
     "cell_type": "code",
     "collapsed": false,
     "input": [
      "clfA = LinearRegression()\n",
      "clfA.fit(X_train, y_train)"
     ],
     "language": "python",
     "metadata": {},
     "outputs": [
      {
       "metadata": {},
       "output_type": "pyout",
       "prompt_number": 52,
       "text": [
        "LinearRegression(copy_X=True, fit_intercept=True, normalize=False)"
       ]
      }
     ],
     "prompt_number": 52
    },
    {
     "cell_type": "code",
     "collapsed": false,
     "input": [
      "zip (y_test, clfA.predict(X_test))"
     ],
     "language": "python",
     "metadata": {},
     "outputs": [
      {
       "metadata": {},
       "output_type": "pyout",
       "prompt_number": 53,
       "text": [
        "[(19.600000000000001, 17.893358968474583),\n",
        " (22.5, 29.942309656411517),\n",
        " (19.5, 17.527268638610135),\n",
        " (18.0, 18.936153711721563),\n",
        " (13.1, 15.809352136242666),\n",
        " (22.0, 28.059729440145695),\n",
        " (23.699999999999999, 26.913068118933431),\n",
        " (23.300000000000001, 24.928725359929857),\n",
        " (11.699999999999999, 16.043724988885913),\n",
        " (21.399999999999999, 20.081844242258278),\n",
        " (21.0, 20.712274499984339),\n",
        " (13.800000000000001, 12.070902495395165),\n",
        " (50.0, 30.875398429822738),\n",
        " (46.0, 38.55502304427759),\n",
        " (16.600000000000001, 18.684087063008885),\n",
        " (23.0, 23.519557853072275),\n",
        " (24.800000000000001, 25.006980470396954),\n",
        " (23.399999999999999, 23.951232213773253),\n",
        " (20.300000000000001, 23.720667087506708),\n",
        " (24.800000000000001, 31.523022548699647),\n",
        " (7.4000000000000004, 6.3125954424794699),\n",
        " (6.2999999999999998, 11.082383468316003),\n",
        " (23.100000000000001, 23.47297259923738),\n",
        " (15.199999999999999, 16.055578835213055),\n",
        " (25.0, 28.229265315087869),\n",
        " (46.700000000000003, 34.289638706671425),\n",
        " (20.100000000000001, 21.350846080821459),\n",
        " (26.600000000000001, 22.18677473092297),\n",
        " (23.100000000000001, 24.70007388710281),\n",
        " (35.100000000000001, 35.169412312635664),\n",
        " (19.100000000000001, 17.246965760292518),\n",
        " (20.399999999999999, 20.569207731717427),\n",
        " (21.699999999999999, 21.585949693729017),\n",
        " (13.1, 13.953756407422762),\n",
        " (19.899999999999999, 19.285926124404476),\n",
        " (20.699999999999999, 24.89573598194632),\n",
        " (28.5, 33.957064367979925),\n",
        " (23.100000000000001, 16.774295315136197),\n",
        " (19.5, 20.169967141030501),\n",
        " (17.100000000000001, 19.335711902701213),\n",
        " (19.0, 21.174628329942983),\n",
        " (26.5, 25.153766382997315),\n",
        " (16.199999999999999, 15.566632685508178),\n",
        " (50.0, 41.994701275683425),\n",
        " (12.800000000000001, 13.208641055207718),\n",
        " (13.4, 16.427886517287948),\n",
        " (17.5, 16.785903601259587),\n",
        " (21.399999999999999, 24.074905932470042),\n",
        " (20.300000000000001, 22.679153707945403),\n",
        " (27.5, 24.254167459676783),\n",
        " (17.199999999999999, 17.288494312397955),\n",
        " (22.300000000000001, 28.059927325302713),\n",
        " (17.5, 18.654988800297382),\n",
        " (43.100000000000001, 36.53276328105747),\n",
        " (10.9, 14.217893102468917),\n",
        " (37.200000000000003, 32.360000721877199),\n",
        " (18.5, 19.85704225726478),\n",
        " (22.199999999999999, 24.354987224785454),\n",
        " (22.800000000000001, 26.262965360383493),\n",
        " (50.0, 38.492753145145024),\n",
        " (41.700000000000003, 36.928301356134227),\n",
        " (18.899999999999999, 23.934696145277439),\n",
        " (26.199999999999999, 24.012825991073768),\n",
        " (23.399999999999999, 24.417931426958383),\n",
        " (29.600000000000001, 24.858726134730389),\n",
        " (23.300000000000001, 25.468093114989994),\n",
        " (19.399999999999999, 23.500313991098508),\n",
        " (21.399999999999999, 23.007370073214393),\n",
        " (16.100000000000001, 18.971226141311938),\n",
        " (38.700000000000003, 34.878288986618408),\n",
        " (48.299999999999997, 36.090673437728213),\n",
        " (13.4, 13.415740150409318),\n",
        " (8.0999999999999996, 4.7242119143636145),\n",
        " (18.399999999999999, 16.072095240379038),\n",
        " (23.0, 23.388364786803287),\n",
        " (24.199999999999999, 25.005456543323245),\n",
        " (20.199999999999999, 16.334138566362661),\n",
        " (18.5, 25.157443977879936),\n",
        " (22.600000000000001, 26.65721668863933),\n",
        " (15.199999999999999, 19.102378385123068),\n",
        " (14.1, 18.880436568797791),\n",
        " (28.100000000000001, 25.032785417938534),\n",
        " (32.200000000000003, 32.305932478491705),\n",
        " (18.300000000000001, 19.175956934111412),\n",
        " (24.0, 29.846724895440335),\n",
        " (12.699999999999999, 12.979288289969702),\n",
        " (16.699999999999999, 20.524559943453951),\n",
        " (35.399999999999999, 31.714950601489004),\n",
        " (26.399999999999999, 23.239229038926375),\n",
        " (20.800000000000001, 18.256896966193697),\n",
        " (19.800000000000001, 22.605156710607154),\n",
        " (30.5, 30.508782128426937),\n",
        " (21.100000000000001, 20.460084172608081),\n",
        " (23.300000000000001, 22.059779419183847),\n",
        " (50.0, 39.861349318201661),\n",
        " (5.0, 7.1063303885797371),\n",
        " (50.0, 24.594503526672085),\n",
        " (33.399999999999999, 28.081915217274393),\n",
        " (10.5, 12.753131204839658),\n",
        " (21.199999999999999, 21.173648595098367),\n",
        " (11.9, 22.301994081283052),\n",
        " (18.300000000000001, 20.742551644559548),\n",
        " (14.9, 17.023671101135236),\n",
        " (19.899999999999999, 17.823539503734533),\n",
        " (16.399999999999999, 18.731066983940071),\n",
        " (22.600000000000001, 18.791803205456251),\n",
        " (21.5, 20.473610026142822),\n",
        " (30.699999999999999, 30.942609499418001),\n",
        " (11.699999999999999, 15.317010744867661),\n",
        " (22.899999999999999, 23.43960885109599),\n",
        " (33.100000000000001, 33.50476531480335),\n",
        " (10.9, 18.341306446356192),\n",
        " (11.300000000000001, 13.77039095633314),\n",
        " (27.5, 30.517163472638131),\n",
        " (22.0, 29.289747518213865),\n",
        " (17.100000000000001, 17.028748554465768),\n",
        " (25.0, 25.791166979191125),\n",
        " (23.5, 31.239485151550557),\n",
        " (30.800000000000001, 31.867526493615884),\n",
        " (18.800000000000001, 21.085856714623368),\n",
        " (19.699999999999999, 21.922498351260412),\n",
        " (17.199999999999999, 14.381380373278814),\n",
        " (12.6, 17.889709830415946),\n",
        " (25.100000000000001, 28.626695268955636),\n",
        " (16.699999999999999, 19.390148928161015),\n",
        " (20.100000000000001, 24.532254926462087),\n",
        " (20.800000000000001, 23.546602577185624)]"
       ]
      }
     ],
     "prompt_number": 53
    },
    {
     "cell_type": "code",
     "collapsed": false,
     "input": [
      "r2_score(y_test, clfA.predict(X_test))"
     ],
     "language": "python",
     "metadata": {},
     "outputs": [
      {
       "metadata": {},
       "output_type": "pyout",
       "prompt_number": 54,
       "text": [
        "0.73564739528482048"
       ]
      }
     ],
     "prompt_number": 54
    },
    {
     "cell_type": "code",
     "collapsed": false,
     "input": [
      "math.sqrt(mean_squared_error(y_test, clfA.predict(X_test)))"
     ],
     "language": "python",
     "metadata": {},
     "outputs": [
      {
       "metadata": {},
       "output_type": "pyout",
       "prompt_number": 55,
       "text": [
        "4.883811178281827"
       ]
      }
     ],
     "prompt_number": 55
    },
    {
     "cell_type": "code",
     "collapsed": false,
     "input": [
      "from sklearn import datasets\n",
      "import pandas as pd\n",
      "from sklearn.preprocessing import StandardScaler\n",
      "from sklearn.cross_validation import train_test_split\n",
      "from sklearn.metrics import mean_squared_error\n",
      "from sklearn.metrics import r2_score\n",
      "from sklearn.linear_model import LinearRegression\n",
      "from sklearn.linear_model import Lasso\n",
      "import math"
     ],
     "language": "python",
     "metadata": {},
     "outputs": [],
     "prompt_number": 56
    },
    {
     "cell_type": "code",
     "collapsed": false,
     "input": [
      "def load_boston():\n",
      "    scaler = StandardScaler()\n",
      "    boston = datasets.load_boston()\n",
      "    X=boston.data\n",
      "    y=boston.target\n",
      "    X = scaler.fit_transform(X)\n",
      "    return train_test_split(X,y)"
     ],
     "language": "python",
     "metadata": {},
     "outputs": [],
     "prompt_number": 57
    },
    {
     "cell_type": "code",
     "collapsed": false,
     "input": [
      "X_train, X_test, y_train, y_test = load_boston()"
     ],
     "language": "python",
     "metadata": {},
     "outputs": [],
     "prompt_number": 58
    },
    {
     "cell_type": "code",
     "collapsed": false,
     "input": [
      "X_train.shape"
     ],
     "language": "python",
     "metadata": {},
     "outputs": [
      {
       "metadata": {},
       "output_type": "pyout",
       "prompt_number": 59,
       "text": [
        "(379L, 13L)"
       ]
      }
     ],
     "prompt_number": 59
    },
    {
     "cell_type": "code",
     "collapsed": false,
     "input": [
      "clfA = LinearRegression()\n",
      "clfA.fit(X_train, y_train)"
     ],
     "language": "python",
     "metadata": {},
     "outputs": [
      {
       "metadata": {},
       "output_type": "pyout",
       "prompt_number": 60,
       "text": [
        "LinearRegression(copy_X=True, fit_intercept=True, normalize=False)"
       ]
      }
     ],
     "prompt_number": 60
    },
    {
     "cell_type": "code",
     "collapsed": false,
     "input": [
      "zip (y_test, clfA.predict(X_test))"
     ],
     "language": "python",
     "metadata": {},
     "outputs": [
      {
       "metadata": {},
       "output_type": "pyout",
       "prompt_number": 61,
       "text": [
        "[(21.5, 19.997459589439053),\n",
        " (25.300000000000001, 24.811167475506998),\n",
        " (6.2999999999999998, 9.6674265754544955),\n",
        " (20.100000000000001, 24.10190062948994),\n",
        " (23.699999999999999, 9.6863931569544413),\n",
        " (33.399999999999999, 35.456728492241098),\n",
        " (13.800000000000001, 5.5477378146902936),\n",
        " (20.800000000000001, 23.377626841061026),\n",
        " (33.299999999999997, 35.674869479905816),\n",
        " (14.6, 7.3869890610483946),\n",
        " (37.200000000000003, 32.926159647151813),\n",
        " (50.0, 25.377029155975965),\n",
        " (12.5, 18.637641391682216),\n",
        " (43.799999999999997, 34.393804059407792),\n",
        " (17.699999999999999, 19.646303839894699),\n",
        " (8.5, 6.1545122886179477),\n",
        " (50.0, 42.237875881930009),\n",
        " (14.9, 17.164492170118649),\n",
        " (20.300000000000001, 22.378955471173949),\n",
        " (22.399999999999999, 21.581573857616398),\n",
        " (30.5, 30.033405571511182),\n",
        " (15.4, 13.827878476840825),\n",
        " (11.699999999999999, 15.472226209209518),\n",
        " (23.100000000000001, 24.922523988381194),\n",
        " (46.0, 39.120461589173239),\n",
        " (23.199999999999999, 25.65233846961236),\n",
        " (14.5, 13.981488006120594),\n",
        " (12.300000000000001, 12.652575297526468),\n",
        " (20.199999999999999, 16.192270273526802),\n",
        " (17.800000000000001, 8.5489983675953738),\n",
        " (21.699999999999999, 21.077219826758355),\n",
        " (25.0, 27.33235016457623),\n",
        " (21.199999999999999, 21.813856878398205),\n",
        " (18.300000000000001, 19.020130844606236),\n",
        " (8.4000000000000004, 13.750970036325532),\n",
        " (21.600000000000001, 25.93705924887486),\n",
        " (25.0, 22.116585526262686),\n",
        " (28.0, 28.152876311944024),\n",
        " (18.399999999999999, 18.265433264275458),\n",
        " (28.100000000000001, 24.749988411407671),\n",
        " (22.5, 29.027153551793738),\n",
        " (37.299999999999997, 33.778172028906368),\n",
        " (23.100000000000001, 20.178028580192436),\n",
        " (22.199999999999999, 26.277898812235239),\n",
        " (13.199999999999999, 8.4656271745683309),\n",
        " (50.0, 36.870008685027685),\n",
        " (42.799999999999997, 28.347721135189246),\n",
        " (19.600000000000001, 21.27273433026793),\n",
        " (43.100000000000001, 36.760589258600227),\n",
        " (13.6, 13.395826092880295),\n",
        " (19.600000000000001, 19.187726178342793),\n",
        " (25.199999999999999, 26.734789968837291),\n",
        " (17.800000000000001, 15.974926463435921),\n",
        " (20.600000000000001, 16.334197373269689),\n",
        " (26.600000000000001, 21.58505646248295),\n",
        " (31.600000000000001, 32.625621365184514),\n",
        " (45.399999999999999, 38.688769000144944),\n",
        " (30.699999999999999, 30.59165840054472),\n",
        " (15.199999999999999, 15.713888117774127),\n",
        " (22.600000000000001, 22.225722883524625),\n",
        " (50.0, 40.160616438025571),\n",
        " (15.199999999999999, 18.757975389385805),\n",
        " (23.100000000000001, 24.766337449420746),\n",
        " (20.399999999999999, 20.4864168789418),\n",
        " (13.300000000000001, 15.965718930145147),\n",
        " (19.399999999999999, 23.153412027794026),\n",
        " (16.300000000000001, 12.401053815907575),\n",
        " (34.899999999999999, 29.272392645826415),\n",
        " (14.5, 18.530681999728809),\n",
        " (21.399999999999999, 25.166980439936506),\n",
        " (15.6, 13.412608405149212),\n",
        " (13.800000000000001, 19.84852177652591),\n",
        " (10.4, 6.7177799896600767),\n",
        " (22.600000000000001, 27.331378514745076),\n",
        " (24.100000000000001, 24.914168226006733),\n",
        " (24.5, 19.97090671352813),\n",
        " (19.100000000000001, 24.792676068257069),\n",
        " (22.800000000000001, 26.485311164760571),\n",
        " (10.199999999999999, 6.0217152943065599),\n",
        " (19.399999999999999, 23.726216052023705),\n",
        " (19.699999999999999, 21.246075337181463),\n",
        " (16.699999999999999, 19.281240772877275),\n",
        " (50.0, 40.032964215249407),\n",
        " (13.4, 12.700358647842656),\n",
        " (16.100000000000001, 22.03894811683816),\n",
        " (17.399999999999999, 15.596786792928967),\n",
        " (21.600000000000001, 25.458084496450535),\n",
        " (23.899999999999999, 27.497437735718172),\n",
        " (18.699999999999999, 21.602916183274129),\n",
        " (18.899999999999999, 24.251340189269264),\n",
        " (50.0, 25.351733355111755),\n",
        " (29.899999999999999, 31.647771991057937),\n",
        " (37.0, 30.205207582542418),\n",
        " (14.300000000000001, 13.845253127144499),\n",
        " (18.5, 19.996149290645189),\n",
        " (13.6, 12.789544450915683),\n",
        " (10.5, 5.7661976582553933),\n",
        " (21.699999999999999, 22.821783393462425),\n",
        " (17.399999999999999, 23.012206166029134),\n",
        " (12.699999999999999, 13.020766245045452),\n",
        " (20.5, 24.409284536721078),\n",
        " (30.100000000000001, 30.180429002861949),\n",
        " (22.899999999999999, 25.275959637011717),\n",
        " (21.0, 21.056419618318255),\n",
        " (12.0, 11.518768120021438),\n",
        " (23.199999999999999, 16.676135998993093),\n",
        " (24.300000000000001, 19.93621579414059),\n",
        " (36.100000000000001, 32.626066659864662),\n",
        " (19.800000000000001, 18.352607728321939),\n",
        " (31.699999999999999, 33.354819520143224),\n",
        " (32.0, 33.701163630815884),\n",
        " (23.899999999999999, 24.7489366136478),\n",
        " (14.4, 9.2233183543783372),\n",
        " (11.5, 14.085279834104718),\n",
        " (14.199999999999999, 17.997161820008596),\n",
        " (22.0, 27.809057504869607),\n",
        " (22.600000000000001, 23.862920258922284),\n",
        " (18.5, 25.473084873240659),\n",
        " (29.399999999999999, 30.478042756576258),\n",
        " (24.100000000000001, 20.362480073241212),\n",
        " (20.800000000000001, 18.964115618811253),\n",
        " (22.899999999999999, 20.336296727265537),\n",
        " (8.8000000000000007, 3.1250334436115175),\n",
        " (21.199999999999999, 23.398718202027553),\n",
        " (19.600000000000001, 17.937867404025024),\n",
        " (15.0, 16.183342357057363),\n",
        " (28.399999999999999, 28.929611785788275)]"
       ]
      }
     ],
     "prompt_number": 61
    },
    {
     "cell_type": "code",
     "collapsed": false,
     "input": [
      "r2_score(y_test, clfA.predict(X_test))"
     ],
     "language": "python",
     "metadata": {},
     "outputs": [
      {
       "metadata": {},
       "output_type": "pyout",
       "prompt_number": 62,
       "text": [
        "0.70433142840873808"
       ]
      }
     ],
     "prompt_number": 62
    },
    {
     "cell_type": "code",
     "collapsed": false,
     "input": [
      " from sklearn import linear_model"
     ],
     "language": "python",
     "metadata": {},
     "outputs": [],
     "prompt_number": 65
    },
    {
     "cell_type": "code",
     "collapsed": false,
     "input": [
      "clfA = linear_model.Lasso(alpha=0.1)"
     ],
     "language": "python",
     "metadata": {},
     "outputs": [],
     "prompt_number": 66
    },
    {
     "cell_type": "code",
     "collapsed": false,
     "input": [
      "clfA.fit(X_train, y_train)"
     ],
     "language": "python",
     "metadata": {},
     "outputs": [
      {
       "metadata": {},
       "output_type": "pyout",
       "prompt_number": 67,
       "text": [
        "Lasso(alpha=0.1, copy_X=True, fit_intercept=True, max_iter=1000,\n",
        "   normalize=False, positive=False, precompute='auto', tol=0.0001,\n",
        "   warm_start=False)"
       ]
      }
     ],
     "prompt_number": 67
    },
    {
     "cell_type": "code",
     "collapsed": false,
     "input": [
      " print(clfA.coef_)"
     ],
     "language": "python",
     "metadata": {},
     "outputs": [
      {
       "output_type": "stream",
       "stream": "stdout",
       "text": [
        "[-0.81101882  0.63140757 -0.03103635  0.41219129 -1.87754934  2.45324\n",
        "  0.0709391  -2.5857952   1.32858212 -0.88802408 -1.95175142  0.57089369\n",
        " -4.02655792]\n"
       ]
      }
     ],
     "prompt_number": 68
    },
    {
     "cell_type": "code",
     "collapsed": false,
     "input": [
      "print(clfA.intercept_)"
     ],
     "language": "python",
     "metadata": {},
     "outputs": [
      {
       "output_type": "stream",
       "stream": "stdout",
       "text": [
        "22.3229081725\n"
       ]
      }
     ],
     "prompt_number": 69
    },
    {
     "cell_type": "code",
     "collapsed": false,
     "input": [
      "zip (y_test, clfA.predict(X_test))"
     ],
     "language": "python",
     "metadata": {},
     "outputs": [
      {
       "metadata": {},
       "output_type": "pyout",
       "prompt_number": 70,
       "text": [
        "[(21.5, 21.103354097080953),\n",
        " (25.300000000000001, 25.50514911014487),\n",
        " (6.2999999999999998, 9.7461091254872514),\n",
        " (20.100000000000001, 23.41643705257745),\n",
        " (23.699999999999999, 10.468374719446686),\n",
        " (33.399999999999999, 33.727426937663324),\n",
        " (13.800000000000001, 4.8482077117952116),\n",
        " (20.800000000000001, 23.881974917796423),\n",
        " (33.299999999999997, 35.63033626832248),\n",
        " (14.6, 8.4546547659231894),\n",
        " (37.200000000000003, 32.224838544864696),\n",
        " (50.0, 24.462132050330922),\n",
        " (12.5, 18.24038659608037),\n",
        " (43.799999999999997, 35.018342414169723),\n",
        " (17.699999999999999, 19.536694813202946),\n",
        " (8.5, 6.9339535097307916),\n",
        " (50.0, 41.662228209676996),\n",
        " (14.9, 17.128326691137836),\n",
        " (20.300000000000001, 21.410756602358504),\n",
        " (22.399999999999999, 21.405053894774682),\n",
        " (30.5, 30.5895437081439),\n",
        " (15.4, 14.99451814598844),\n",
        " (11.699999999999999, 15.043081728958073),\n",
        " (23.100000000000001, 25.0372246567456),\n",
        " (46.0, 38.314462587433198),\n",
        " (23.199999999999999, 25.544438644446625),\n",
        " (14.5, 14.04311541638552),\n",
        " (12.300000000000001, 12.090913128855837),\n",
        " (20.199999999999999, 16.982050931267558),\n",
        " (17.800000000000001, 9.7431698894076106),\n",
        " (21.699999999999999, 21.149260792652722),\n",
        " (25.0, 27.598119603399045),\n",
        " (21.199999999999999, 21.859691244363127),\n",
        " (18.300000000000001, 19.443246763781858),\n",
        " (8.4000000000000004, 14.461915610763196),\n",
        " (21.600000000000001, 25.685418813223389),\n",
        " (25.0, 22.362464800559529),\n",
        " (28.0, 28.254998657185944),\n",
        " (18.399999999999999, 18.015864456879747),\n",
        " (28.100000000000001, 25.080145590152412),\n",
        " (22.5, 29.091492975365078),\n",
        " (37.299999999999997, 32.776499978503097),\n",
        " (23.100000000000001, 21.247733263121006),\n",
        " (22.199999999999999, 25.864996625730772),\n",
        " (13.199999999999999, 9.1350554290042734),\n",
        " (50.0, 37.018991895200244),\n",
        " (42.799999999999997, 30.135842383608839),\n",
        " (19.600000000000001, 20.911508777103101),\n",
        " (43.100000000000001, 35.905095959124466),\n",
        " (13.6, 15.890120618786421),\n",
        " (19.600000000000001, 20.045683191168767),\n",
        " (25.199999999999999, 26.711593946881703),\n",
        " (17.800000000000001, 16.736750684962885),\n",
        " (20.600000000000001, 17.514788787619786),\n",
        " (26.600000000000001, 23.447585120314912),\n",
        " (31.600000000000001, 31.75639252279316),\n",
        " (45.399999999999999, 37.617922040821853),\n",
        " (30.699999999999999, 29.832244094008246),\n",
        " (15.199999999999999, 15.963909145167635),\n",
        " (22.600000000000001, 22.592147123126455),\n",
        " (50.0, 40.434437145316622),\n",
        " (15.199999999999999, 18.667302192730322),\n",
        " (23.100000000000001, 25.224059711330209),\n",
        " (20.399999999999999, 20.826003417633203),\n",
        " (13.300000000000001, 15.203818225149069),\n",
        " (19.399999999999999, 24.010732070746137),\n",
        " (16.300000000000001, 11.830032247096955),\n",
        " (34.899999999999999, 30.019038915657251),\n",
        " (14.5, 18.564784188194633),\n",
        " (21.399999999999999, 24.910268208170699),\n",
        " (15.6, 14.297099660240491),\n",
        " (13.800000000000001, 19.458961254821894),\n",
        " (10.4, 6.9523973677496915),\n",
        " (22.600000000000001, 27.217175127292897),\n",
        " (24.100000000000001, 26.068920292400993),\n",
        " (24.5, 20.748878202371277),\n",
        " (19.100000000000001, 24.576284478192285),\n",
        " (22.800000000000001, 26.847880001170836),\n",
        " (10.199999999999999, 5.6154707448412111),\n",
        " (19.399999999999999, 23.24524776523916),\n",
        " (19.699999999999999, 21.121901126475574),\n",
        " (16.699999999999999, 19.115673460514579),\n",
        " (50.0, 39.11788377910726),\n",
        " (13.4, 13.209481860845601),\n",
        " (16.100000000000001, 21.5985923784866),\n",
        " (17.399999999999999, 16.413345625912054),\n",
        " (21.600000000000001, 25.259540251924218),\n",
        " (23.899999999999999, 27.555693407393097),\n",
        " (18.699999999999999, 21.377125477918092),\n",
        " (18.899999999999999, 23.711930353335866),\n",
        " (50.0, 24.263629842957318),\n",
        " (29.899999999999999, 31.123663397491409),\n",
        " (37.0, 30.998279665571353),\n",
        " (14.300000000000001, 14.585635379826764),\n",
        " (18.5, 19.736384264521316),\n",
        " (13.6, 12.773684328365583),\n",
        " (10.5, 5.4897691029103193),\n",
        " (21.699999999999999, 21.698242711481029),\n",
        " (17.399999999999999, 22.906627727488154),\n",
        " (12.699999999999999, 13.183275082355083),\n",
        " (20.5, 23.960077914851368),\n",
        " (30.100000000000001, 29.172264277218584),\n",
        " (22.899999999999999, 25.039419535606065),\n",
        " (21.0, 21.453805918490936),\n",
        " (12.0, 10.867979211264952),\n",
        " (23.199999999999999, 16.535063609328144),\n",
        " (24.300000000000001, 20.519841478944706),\n",
        " (36.100000000000001, 31.594421471034298),\n",
        " (19.800000000000001, 18.507018483101199),\n",
        " (31.699999999999999, 32.705955237381801),\n",
        " (32.0, 32.878798986969741),\n",
        " (23.899999999999999, 24.858085924616411),\n",
        " (14.4, 8.8180920924393309),\n",
        " (11.5, 13.473039789367334),\n",
        " (14.199999999999999, 17.676779419698789),\n",
        " (22.0, 27.548737686773713),\n",
        " (22.600000000000001, 25.65791867101332),\n",
        " (18.5, 25.550251646039001),\n",
        " (29.399999999999999, 30.550764475474793),\n",
        " (24.100000000000001, 22.08935702464828),\n",
        " (20.800000000000001, 18.249269088505194),\n",
        " (22.899999999999999, 21.893495010823965),\n",
        " (8.8000000000000007, 2.894310866660927),\n",
        " (21.199999999999999, 23.798104074560602),\n",
        " (19.600000000000001, 18.064042965931186),\n",
        " (15.0, 16.350972196272444),\n",
        " (28.399999999999999, 28.929780038176883)]"
       ]
      }
     ],
     "prompt_number": 70
    },
    {
     "cell_type": "code",
     "collapsed": false,
     "input": [
      "r2_score(y_test, clfA.predict(X_test))"
     ],
     "language": "python",
     "metadata": {},
     "outputs": [
      {
       "metadata": {},
       "output_type": "pyout",
       "prompt_number": 71,
       "text": [
        "0.70738199288385584"
       ]
      }
     ],
     "prompt_number": 71
    },
    {
     "cell_type": "code",
     "collapsed": false,
     "input": [
      "clfB = linear_model.Lasso(alpha=10.0)\n",
      " "
     ],
     "language": "python",
     "metadata": {},
     "outputs": [],
     "prompt_number": 72
    },
    {
     "cell_type": "code",
     "collapsed": false,
     "input": [
      "clfB.fit(X_train, y_train)"
     ],
     "language": "python",
     "metadata": {},
     "outputs": [
      {
       "metadata": {},
       "output_type": "pyout",
       "prompt_number": 73,
       "text": [
        "Lasso(alpha=10.0, copy_X=True, fit_intercept=True, max_iter=1000,\n",
        "   normalize=False, positive=False, precompute='auto', tol=0.0001,\n",
        "   warm_start=False)"
       ]
      }
     ],
     "prompt_number": 73
    },
    {
     "cell_type": "code",
     "collapsed": false,
     "input": [
      " print(clfB.coef_)"
     ],
     "language": "python",
     "metadata": {},
     "outputs": [
      {
       "output_type": "stream",
       "stream": "stdout",
       "text": [
        "[-0.  0. -0.  0. -0.  0. -0.  0. -0. -0. -0.  0. -0.]\n"
       ]
      }
     ],
     "prompt_number": 74
    },
    {
     "cell_type": "code",
     "collapsed": false,
     "input": [
      "print(clfB.intercept_)"
     ],
     "language": "python",
     "metadata": {},
     "outputs": [
      {
       "output_type": "stream",
       "stream": "stdout",
       "text": [
        "22.4129287599\n"
       ]
      }
     ],
     "prompt_number": 75
    },
    {
     "cell_type": "code",
     "collapsed": false,
     "input": [
      "zip (y_test, clfB.predict(X_test))"
     ],
     "language": "python",
     "metadata": {},
     "outputs": [
      {
       "metadata": {},
       "output_type": "pyout",
       "prompt_number": 76,
       "text": [
        "[(21.5, 22.412928759894459),\n",
        " (25.300000000000001, 22.412928759894459),\n",
        " (6.2999999999999998, 22.412928759894459),\n",
        " (20.100000000000001, 22.412928759894459),\n",
        " (23.699999999999999, 22.412928759894459),\n",
        " (33.399999999999999, 22.412928759894459),\n",
        " (13.800000000000001, 22.412928759894459),\n",
        " (20.800000000000001, 22.412928759894459),\n",
        " (33.299999999999997, 22.412928759894459),\n",
        " (14.6, 22.412928759894459),\n",
        " (37.200000000000003, 22.412928759894459),\n",
        " (50.0, 22.412928759894459),\n",
        " (12.5, 22.412928759894459),\n",
        " (43.799999999999997, 22.412928759894459),\n",
        " (17.699999999999999, 22.412928759894459),\n",
        " (8.5, 22.412928759894459),\n",
        " (50.0, 22.412928759894459),\n",
        " (14.9, 22.412928759894459),\n",
        " (20.300000000000001, 22.412928759894459),\n",
        " (22.399999999999999, 22.412928759894459),\n",
        " (30.5, 22.412928759894459),\n",
        " (15.4, 22.412928759894459),\n",
        " (11.699999999999999, 22.412928759894459),\n",
        " (23.100000000000001, 22.412928759894459),\n",
        " (46.0, 22.412928759894459),\n",
        " (23.199999999999999, 22.412928759894459),\n",
        " (14.5, 22.412928759894459),\n",
        " (12.300000000000001, 22.412928759894459),\n",
        " (20.199999999999999, 22.412928759894459),\n",
        " (17.800000000000001, 22.412928759894459),\n",
        " (21.699999999999999, 22.412928759894459),\n",
        " (25.0, 22.412928759894459),\n",
        " (21.199999999999999, 22.412928759894459),\n",
        " (18.300000000000001, 22.412928759894459),\n",
        " (8.4000000000000004, 22.412928759894459),\n",
        " (21.600000000000001, 22.412928759894459),\n",
        " (25.0, 22.412928759894459),\n",
        " (28.0, 22.412928759894459),\n",
        " (18.399999999999999, 22.412928759894459),\n",
        " (28.100000000000001, 22.412928759894459),\n",
        " (22.5, 22.412928759894459),\n",
        " (37.299999999999997, 22.412928759894459),\n",
        " (23.100000000000001, 22.412928759894459),\n",
        " (22.199999999999999, 22.412928759894459),\n",
        " (13.199999999999999, 22.412928759894459),\n",
        " (50.0, 22.412928759894459),\n",
        " (42.799999999999997, 22.412928759894459),\n",
        " (19.600000000000001, 22.412928759894459),\n",
        " (43.100000000000001, 22.412928759894459),\n",
        " (13.6, 22.412928759894459),\n",
        " (19.600000000000001, 22.412928759894459),\n",
        " (25.199999999999999, 22.412928759894459),\n",
        " (17.800000000000001, 22.412928759894459),\n",
        " (20.600000000000001, 22.412928759894459),\n",
        " (26.600000000000001, 22.412928759894459),\n",
        " (31.600000000000001, 22.412928759894459),\n",
        " (45.399999999999999, 22.412928759894459),\n",
        " (30.699999999999999, 22.412928759894459),\n",
        " (15.199999999999999, 22.412928759894459),\n",
        " (22.600000000000001, 22.412928759894459),\n",
        " (50.0, 22.412928759894459),\n",
        " (15.199999999999999, 22.412928759894459),\n",
        " (23.100000000000001, 22.412928759894459),\n",
        " (20.399999999999999, 22.412928759894459),\n",
        " (13.300000000000001, 22.412928759894459),\n",
        " (19.399999999999999, 22.412928759894459),\n",
        " (16.300000000000001, 22.412928759894459),\n",
        " (34.899999999999999, 22.412928759894459),\n",
        " (14.5, 22.412928759894459),\n",
        " (21.399999999999999, 22.412928759894459),\n",
        " (15.6, 22.412928759894459),\n",
        " (13.800000000000001, 22.412928759894459),\n",
        " (10.4, 22.412928759894459),\n",
        " (22.600000000000001, 22.412928759894459),\n",
        " (24.100000000000001, 22.412928759894459),\n",
        " (24.5, 22.412928759894459),\n",
        " (19.100000000000001, 22.412928759894459),\n",
        " (22.800000000000001, 22.412928759894459),\n",
        " (10.199999999999999, 22.412928759894459),\n",
        " (19.399999999999999, 22.412928759894459),\n",
        " (19.699999999999999, 22.412928759894459),\n",
        " (16.699999999999999, 22.412928759894459),\n",
        " (50.0, 22.412928759894459),\n",
        " (13.4, 22.412928759894459),\n",
        " (16.100000000000001, 22.412928759894459),\n",
        " (17.399999999999999, 22.412928759894459),\n",
        " (21.600000000000001, 22.412928759894459),\n",
        " (23.899999999999999, 22.412928759894459),\n",
        " (18.699999999999999, 22.412928759894459),\n",
        " (18.899999999999999, 22.412928759894459),\n",
        " (50.0, 22.412928759894459),\n",
        " (29.899999999999999, 22.412928759894459),\n",
        " (37.0, 22.412928759894459),\n",
        " (14.300000000000001, 22.412928759894459),\n",
        " (18.5, 22.412928759894459),\n",
        " (13.6, 22.412928759894459),\n",
        " (10.5, 22.412928759894459),\n",
        " (21.699999999999999, 22.412928759894459),\n",
        " (17.399999999999999, 22.412928759894459),\n",
        " (12.699999999999999, 22.412928759894459),\n",
        " (20.5, 22.412928759894459),\n",
        " (30.100000000000001, 22.412928759894459),\n",
        " (22.899999999999999, 22.412928759894459),\n",
        " (21.0, 22.412928759894459),\n",
        " (12.0, 22.412928759894459),\n",
        " (23.199999999999999, 22.412928759894459),\n",
        " (24.300000000000001, 22.412928759894459),\n",
        " (36.100000000000001, 22.412928759894459),\n",
        " (19.800000000000001, 22.412928759894459),\n",
        " (31.699999999999999, 22.412928759894459),\n",
        " (32.0, 22.412928759894459),\n",
        " (23.899999999999999, 22.412928759894459),\n",
        " (14.4, 22.412928759894459),\n",
        " (11.5, 22.412928759894459),\n",
        " (14.199999999999999, 22.412928759894459),\n",
        " (22.0, 22.412928759894459),\n",
        " (22.600000000000001, 22.412928759894459),\n",
        " (18.5, 22.412928759894459),\n",
        " (29.399999999999999, 22.412928759894459),\n",
        " (24.100000000000001, 22.412928759894459),\n",
        " (20.800000000000001, 22.412928759894459),\n",
        " (22.899999999999999, 22.412928759894459),\n",
        " (8.8000000000000007, 22.412928759894459),\n",
        " (21.199999999999999, 22.412928759894459),\n",
        " (19.600000000000001, 22.412928759894459),\n",
        " (15.0, 22.412928759894459),\n",
        " (28.399999999999999, 22.412928759894459)]"
       ]
      }
     ],
     "prompt_number": 76
    },
    {
     "cell_type": "code",
     "collapsed": false,
     "input": [
      "r2_score(y_test, clfA.predict(X_test))"
     ],
     "language": "python",
     "metadata": {},
     "outputs": [
      {
       "metadata": {},
       "output_type": "pyout",
       "prompt_number": 77,
       "text": [
        "0.70738199288385584"
       ]
      }
     ],
     "prompt_number": 77
    },
    {
     "cell_type": "code",
     "collapsed": false,
     "input": [
      "math.sqrt(mean_squared_error(y_test, clfA.predict(X_test)))"
     ],
     "language": "python",
     "metadata": {},
     "outputs": [
      {
       "metadata": {},
       "output_type": "pyout",
       "prompt_number": 78,
       "text": [
        "5.359305862941465"
       ]
      }
     ],
     "prompt_number": 78
    },
    {
     "cell_type": "code",
     "collapsed": false,
     "input": [
      "r2_score(y_test, clfB.predict(X_test))"
     ],
     "language": "python",
     "metadata": {},
     "outputs": [
      {
       "metadata": {},
       "output_type": "pyout",
       "prompt_number": 79,
       "text": [
        "-0.0023240923054643758"
       ]
      }
     ],
     "prompt_number": 79
    },
    {
     "cell_type": "code",
     "collapsed": false,
     "input": [
      "math.sqrt(mean_squared_error(y_test, clfB.predict(X_test)))"
     ],
     "language": "python",
     "metadata": {},
     "outputs": [
      {
       "metadata": {},
       "output_type": "pyout",
       "prompt_number": 80,
       "text": [
        "9.918867849148558"
       ]
      }
     ],
     "prompt_number": 80
    },
    {
     "cell_type": "code",
     "collapsed": false,
     "input": [],
     "language": "python",
     "metadata": {},
     "outputs": []
    }
   ],
   "metadata": {}
  }
 ]
}