{
 "metadata": {
  "name": "",
  "signature": "sha256:dd2d08c6ea5ca571b3c2c51785f3856ceb25a6797716d16b3f299e681b3f1b76"
 },
 "nbformat": 3,
 "nbformat_minor": 0,
 "worksheets": [
  {
   "cells": [
    {
     "cell_type": "code",
     "collapsed": false,
     "input": [
      "from sklearn import datasets\n",
      "import pandas as pd\n",
      "from sklearn.preprocessing import StandardScaler\n",
      "from sklearn.cross_validation import train_test_split\n",
      "from sklearn.metrics import mean_squared_error\n",
      "from sklearn.metrics import r2_score\n",
      "from sklearn.linear_model import LinearRegression"
     ],
     "language": "python",
     "metadata": {},
     "outputs": [],
     "prompt_number": 1
    },
    {
     "cell_type": "code",
     "collapsed": false,
     "input": [
      "bean = datasets.load_boston()\n",
      "print bean.DESCR"
     ],
     "language": "python",
     "metadata": {},
     "outputs": [
      {
       "output_type": "stream",
       "stream": "stdout",
       "text": [
        "Boston House Prices dataset\n",
        "\n",
        "Notes\n",
        "------\n",
        "Data Set Characteristics:  \n",
        "\n",
        "    :Number of Instances: 506 \n",
        "\n",
        "    :Number of Attributes: 13 numeric/categorical predictive\n",
        "    \n",
        "    :Median Value (attribute 14) is usually the target\n",
        "\n",
        "    :Attribute Information (in order):\n",
        "        - CRIM     per capita crime rate by town\n",
        "        - ZN       proportion of residential land zoned for lots over 25,000 sq.ft.\n",
        "        - INDUS    proportion of non-retail business acres per town\n",
        "        - CHAS     Charles River dummy variable (= 1 if tract bounds river; 0 otherwise)\n",
        "        - NOX      nitric oxides concentration (parts per 10 million)\n",
        "        - RM       average number of rooms per dwelling\n",
        "        - AGE      proportion of owner-occupied units built prior to 1940\n",
        "        - DIS      weighted distances to five Boston employment centres\n",
        "        - RAD      index of accessibility to radial highways\n",
        "        - TAX      full-value property-tax rate per $10,000\n",
        "        - PTRATIO  pupil-teacher ratio by town\n",
        "        - B        1000(Bk - 0.63)^2 where Bk is the proportion of blacks by town\n",
        "        - LSTAT    % lower status of the population\n",
        "        - MEDV     Median value of owner-occupied homes in $1000's\n",
        "\n",
        "    :Missing Attribute Values: None\n",
        "\n",
        "    :Creator: Harrison, D. and Rubinfeld, D.L.\n",
        "\n",
        "This is a copy of UCI ML housing dataset.\n",
        "http://archive.ics.uci.edu/ml/datasets/Housing\n",
        "\n",
        "\n",
        "This dataset was taken from the StatLib library which is maintained at Carnegie Mellon University.\n",
        "\n",
        "The Boston house-price data of Harrison, D. and Rubinfeld, D.L. 'Hedonic\n",
        "prices and the demand for clean air', J. Environ. Economics & Management,\n",
        "vol.5, 81-102, 1978.   Used in Belsley, Kuh & Welsch, 'Regression diagnostics\n",
        "...', Wiley, 1980.   N.B. Various transformations are used in the table on\n",
        "pages 244-261 of the latter.\n",
        "\n",
        "The Boston house-price data has been used in many machine learning papers that address regression\n",
        "problems.   \n",
        "     \n",
        "**References**\n",
        "\n",
        "   - Belsley, Kuh & Welsch, 'Regression diagnostics: Identifying Influential Data and Sources of Collinearity', Wiley, 1980. 244-261.\n",
        "   - Quinlan,R. (1993). Combining Instance-Based and Model-Based Learning. In Proceedings on the Tenth International Conference of Machine Learning, 236-243, University of Massachusetts, Amherst. Morgan Kaufmann.\n",
        "   - many more! (see http://archive.ics.uci.edu/ml/datasets/Housing)\n",
        "\n"
       ]
      }
     ],
     "prompt_number": 2
    },
    {
     "cell_type": "code",
     "collapsed": false,
     "input": [
      "def load_boston():\n",
      "    scaler = StandardScaler()\n",
      "    boston = datasets.load_boston()\n",
      "    X=boston.data\n",
      "    y=boston.target\n",
      "    X = scaler.fit_transform(X)\n",
      "    return train_test_split(X,y)"
     ],
     "language": "python",
     "metadata": {},
     "outputs": [],
     "prompt_number": 8
    },
    {
     "cell_type": "code",
     "collapsed": false,
     "input": [
      "X_train, X_test, y_train, y_test = load_boston()"
     ],
     "language": "python",
     "metadata": {},
     "outputs": [],
     "prompt_number": 9
    },
    {
     "cell_type": "code",
     "collapsed": false,
     "input": [
      "X_train.shape"
     ],
     "language": "python",
     "metadata": {},
     "outputs": [
      {
       "metadata": {},
       "output_type": "pyout",
       "prompt_number": 10,
       "text": [
        "(379L, 13L)"
       ]
      }
     ],
     "prompt_number": 10
    },
    {
     "cell_type": "code",
     "collapsed": false,
     "input": [
      "clf = LinearRegression()\n",
      "clf.fit(X_train, y_train)"
     ],
     "language": "python",
     "metadata": {},
     "outputs": [
      {
       "metadata": {},
       "output_type": "pyout",
       "prompt_number": 6,
       "text": [
        "LinearRegression(copy_X=True, fit_intercept=True, normalize=False)"
       ]
      }
     ],
     "prompt_number": 6
    },
    {
     "cell_type": "code",
     "collapsed": false,
     "input": [
      "zip (y_test, clf.predict(X_test))"
     ],
     "language": "python",
     "metadata": {},
     "outputs": [
      {
       "metadata": {},
       "output_type": "pyout",
       "prompt_number": 7,
       "text": [
        "[(21.699999999999999, 20.713971123541992),\n",
        " (19.100000000000001, 17.553222978636835),\n",
        " (50.0, 32.861327826917083),\n",
        " (13.4, 14.116054266118146),\n",
        " (50.0, 34.208925331513399),\n",
        " (19.399999999999999, 19.823985145417765),\n",
        " (34.700000000000003, 30.065231414640245),\n",
        " (8.3000000000000007, 10.803390234049431),\n",
        " (23.399999999999999, 24.159645670692189),\n",
        " (7.2000000000000002, 8.1836204294315191),\n",
        " (36.100000000000001, 32.159258106871931),\n",
        " (21.199999999999999, 23.493613369255872),\n",
        " (20.600000000000001, 28.059548808630169),\n",
        " (23.100000000000001, 23.751083718066159),\n",
        " (20.5, 20.586713860819728),\n",
        " (8.5, 7.472577622445856),\n",
        " (21.699999999999999, 20.386311104181399),\n",
        " (14.9, 17.398128028011875),\n",
        " (12.0, 12.616233475583696),\n",
        " (15.1, 17.754924837780489),\n",
        " (35.399999999999999, 30.427448840372946),\n",
        " (22.5, 18.296972313894624),\n",
        " (20.300000000000001, 20.399730074920978),\n",
        " (11.300000000000001, 13.771195913147725),\n",
        " (25.300000000000001, 25.126665429419624),\n",
        " (24.699999999999999, 24.341190411195623),\n",
        " (17.600000000000001, 17.602606945899716),\n",
        " (20.100000000000001, 24.323937814997137),\n",
        " (46.700000000000003, 33.720036258707111),\n",
        " (21.5, 24.844360345252959),\n",
        " (37.600000000000001, 36.454316327165273),\n",
        " (7.0, 9.3794147675590924),\n",
        " (11.9, 22.816581581429105),\n",
        " (22.199999999999999, 26.262099737517225),\n",
        " (23.0, 24.277584353723661),\n",
        " (27.0, 33.339735209715549),\n",
        " (15.6, 15.884256584920202),\n",
        " (32.899999999999999, 30.011601152201703),\n",
        " (37.299999999999997, 34.100603133031555),\n",
        " (50.0, 38.507960176754139),\n",
        " (14.1, 19.136416643197656),\n",
        " (23.0, 23.461549274076511),\n",
        " (13.1, 15.302642226599342),\n",
        " (42.799999999999997, 27.680842989246731),\n",
        " (31.199999999999999, 27.935872044732918),\n",
        " (20.300000000000001, 23.429463941554225),\n",
        " (48.799999999999997, 38.586719294171175),\n",
        " (14.9, 15.35988470375692),\n",
        " (25.0, 26.692548786101703),\n",
        " (17.399999999999999, 23.700502810075974),\n",
        " (22.5, 29.540253621113695),\n",
        " (16.100000000000001, 18.296510429285266),\n",
        " (13.800000000000001, 20.313074648446346),\n",
        " (28.399999999999999, 28.565396399556818),\n",
        " (31.600000000000001, 32.01183007002345),\n",
        " (8.8000000000000007, 4.6551420834004205),\n",
        " (22.899999999999999, 29.572621139278667),\n",
        " (18.199999999999999, 18.866982231018568),\n",
        " (20.800000000000001, 23.970551126518355),\n",
        " (23.100000000000001, 24.153369012135101),\n",
        " (23.0, 20.476791104668191),\n",
        " (20.199999999999999, 22.317860086350716),\n",
        " (23.5, 30.867402694352997),\n",
        " (22.199999999999999, 24.35328823345457),\n",
        " (22.199999999999999, 24.340114254397065),\n",
        " (13.800000000000001, 6.6186833339372591),\n",
        " (17.5, 18.818785231293624),\n",
        " (10.4, 13.559838165708172),\n",
        " (28.5, 33.48676063313323),\n",
        " (23.699999999999999, 27.3576341425882),\n",
        " (14.6, 8.01962332826702),\n",
        " (28.600000000000001, 28.575312369629366),\n",
        " (50.0, 39.573148039060698),\n",
        " (5.0, 6.5552574255446245),\n",
        " (23.899999999999999, 26.250140842661825),\n",
        " (23.600000000000001, 29.193802818730525),\n",
        " (20.699999999999999, 21.173631798536505),\n",
        " (10.9, 17.970599018794161),\n",
        " (14.800000000000001, 14.844355006446047),\n",
        " (24.5, 20.224727176093147),\n",
        " (19.5, 19.051307013748531),\n",
        " (10.199999999999999, 17.882136303725872),\n",
        " (11.5, 14.893438078709751),\n",
        " (32.0, 33.274410335350311),\n",
        " (15.0, 17.818841161846905),\n",
        " (45.399999999999999, 37.837112162990323),\n",
        " (43.100000000000001, 35.665560450265879),\n",
        " (18.300000000000001, 20.926450714809725),\n",
        " (50.0, 39.61963848482501),\n",
        " (35.200000000000003, 33.648693255864856),\n",
        " (29.800000000000001, 32.510845970863301),\n",
        " (21.800000000000001, 22.122187041099309),\n",
        " (22.399999999999999, 22.471882111296935),\n",
        " (11.699999999999999, 16.581532788334268),\n",
        " (21.199999999999999, 21.168895907614139),\n",
        " (20.0, 22.768080120081546),\n",
        " (34.600000000000001, 34.13449078212588),\n",
        " (13.5, 13.809388294944553),\n",
        " (32.200000000000003, 30.962313740872716),\n",
        " (22.899999999999999, 20.301563389608887),\n",
        " (20.800000000000001, 19.955137982311683),\n",
        " (14.199999999999999, 18.483829626531104),\n",
        " (15.199999999999999, 13.16840312314493),\n",
        " (16.800000000000001, 19.868149631018721),\n",
        " (22.5, 22.169105768034136),\n",
        " (29.399999999999999, 30.227301977781657),\n",
        " (16.199999999999999, 21.248216137432088),\n",
        " (13.800000000000001, 17.915860191224883),\n",
        " (24.0, 25.522698924352646),\n",
        " (22.0, 27.43979932948222),\n",
        " (50.0, 42.872859784396887),\n",
        " (15.6, 16.012994038188626),\n",
        " (8.8000000000000007, 7.2805208667683985),\n",
        " (25.0, 28.860212542626392),\n",
        " (29.100000000000001, 30.385495160055967),\n",
        " (9.5999999999999996, 14.757948771495268),\n",
        " (20.399999999999999, 23.17388698728065),\n",
        " (18.800000000000001, 21.601270193072516),\n",
        " (12.300000000000001, 13.358042860182369),\n",
        " (20.100000000000001, 21.765778390557053),\n",
        " (37.899999999999999, 33.530963567950153),\n",
        " (17.199999999999999, 14.51641525919678),\n",
        " (24.600000000000001, 29.399820548270291),\n",
        " (8.6999999999999993, 8.9756157098122529),\n",
        " (19.399999999999999, 17.189613563781389),\n",
        " (21.399999999999999, 24.489970388831757),\n",
        " (23.199999999999999, 27.610829825668382)]"
       ]
      }
     ],
     "prompt_number": 7
    },
    {
     "cell_type": "code",
     "collapsed": false,
     "input": [
      "from sklearn import svm, cross_validation, datasets\n",
      " boston = datasets.load_boston()\n",
      " X, y = boston.data, boston.target\n",
      "model = svm.SVC()\n",
      "cross_validation.cross_val_score(model, X, y, scoring='wrong_choice')\n",
      "Traceback (most recent call last):\n",
      "ValueError: 'wrong_choice' is not a valid scoring value. Valid options are ['accuracy', 'adjusted_rand_score', 'average_precision', 'f1', 'log_loss', 'mean_absolute_error', 'mean_squared_error', 'precision', 'r2', 'recall', 'roc_auc']"
     ],
     "language": "python",
     "metadata": {},
     "outputs": [
      {
       "ename": "IndentationError",
       "evalue": "unexpected indent (<ipython-input-13-cfd24e383e4b>, line 2)",
       "output_type": "pyerr",
       "traceback": [
        "\u001b[1;36m  File \u001b[1;32m\"<ipython-input-13-cfd24e383e4b>\"\u001b[1;36m, line \u001b[1;32m2\u001b[0m\n\u001b[1;33m    boston = datasets.load_boston()\u001b[0m\n\u001b[1;37m    ^\u001b[0m\n\u001b[1;31mIndentationError\u001b[0m\u001b[1;31m:\u001b[0m unexpected indent\n"
       ]
      }
     ],
     "prompt_number": 13
    },
    {
     "cell_type": "code",
     "collapsed": false,
     "input": [
      "from sklearn import datasets\n",
      "import pandas as pd\n",
      "%pylab inline\n",
      "from sklearn.preprocessing import StandardScaler\n",
      "from sklearn.cross_validation import train_test_split\n",
      "from sklearn.metrics import mean_squared_error\n",
      "from sklearn.metrics import r2_score\n",
      "from sklearn.linear_model import LinearRegression\n",
      "from sklearn.linear_model import Lasso\n",
      "import numpy as np\n",
      "from matplotlib import pyplot as plt\n",
      "from IPython.display import display\n",
      "from sklearn.neighbors import KNeighborsRegressor\n"
     ],
     "language": "python",
     "metadata": {},
     "outputs": [
      {
       "output_type": "stream",
       "stream": "stdout",
       "text": [
        "Populating the interactive namespace from numpy and matplotlib\n"
       ]
      },
      {
       "output_type": "stream",
       "stream": "stderr",
       "text": [
        "WARNING: pylab import has clobbered these variables: ['clf']\n",
        "`%matplotlib` prevents importing * from pylab and numpy\n"
       ]
      }
     ],
     "prompt_number": 31
    },
    {
     "cell_type": "code",
     "collapsed": false,
     "input": [
      "from sklearn.datasets import load_boston\n",
      "bean = datasets.load_boston()\n",
      "print bean.DESCR"
     ],
     "language": "python",
     "metadata": {},
     "outputs": [
      {
       "output_type": "stream",
       "stream": "stdout",
       "text": [
        "Boston House Prices dataset\n",
        "\n",
        "Notes\n",
        "------\n",
        "Data Set Characteristics:  \n",
        "\n",
        "    :Number of Instances: 506 \n",
        "\n",
        "    :Number of Attributes: 13 numeric/categorical predictive\n",
        "    \n",
        "    :Median Value (attribute 14) is usually the target\n",
        "\n",
        "    :Attribute Information (in order):\n",
        "        - CRIM     per capita crime rate by town\n",
        "        - ZN       proportion of residential land zoned for lots over 25,000 sq.ft.\n",
        "        - INDUS    proportion of non-retail business acres per town\n",
        "        - CHAS     Charles River dummy variable (= 1 if tract bounds river; 0 otherwise)\n",
        "        - NOX      nitric oxides concentration (parts per 10 million)\n",
        "        - RM       average number of rooms per dwelling\n",
        "        - AGE      proportion of owner-occupied units built prior to 1940\n",
        "        - DIS      weighted distances to five Boston employment centres\n",
        "        - RAD      index of accessibility to radial highways\n",
        "        - TAX      full-value property-tax rate per $10,000\n",
        "        - PTRATIO  pupil-teacher ratio by town\n",
        "        - B        1000(Bk - 0.63)^2 where Bk is the proportion of blacks by town\n",
        "        - LSTAT    % lower status of the population\n",
        "        - MEDV     Median value of owner-occupied homes in $1000's\n",
        "\n",
        "    :Missing Attribute Values: None\n",
        "\n",
        "    :Creator: Harrison, D. and Rubinfeld, D.L.\n",
        "\n",
        "This is a copy of UCI ML housing dataset.\n",
        "http://archive.ics.uci.edu/ml/datasets/Housing\n",
        "\n",
        "\n",
        "This dataset was taken from the StatLib library which is maintained at Carnegie Mellon University.\n",
        "\n",
        "The Boston house-price data of Harrison, D. and Rubinfeld, D.L. 'Hedonic\n",
        "prices and the demand for clean air', J. Environ. Economics & Management,\n",
        "vol.5, 81-102, 1978.   Used in Belsley, Kuh & Welsch, 'Regression diagnostics\n",
        "...', Wiley, 1980.   N.B. Various transformations are used in the table on\n",
        "pages 244-261 of the latter.\n",
        "\n",
        "The Boston house-price data has been used in many machine learning papers that address regression\n",
        "problems.   \n",
        "     \n",
        "**References**\n",
        "\n",
        "   - Belsley, Kuh & Welsch, 'Regression diagnostics: Identifying Influential Data and Sources of Collinearity', Wiley, 1980. 244-261.\n",
        "   - Quinlan,R. (1993). Combining Instance-Based and Model-Based Learning. In Proceedings on the Tenth International Conference of Machine Learning, 236-243, University of Massachusetts, Amherst. Morgan Kaufmann.\n",
        "   - many more! (see http://archive.ics.uci.edu/ml/datasets/Housing)\n",
        "\n"
       ]
      }
     ],
     "prompt_number": 32
    },
    {
     "cell_type": "code",
     "collapsed": false,
     "input": [
      "train_data, test_data, train_target, test_target = \\\n",
      "train_test_split(boston.data, boston.target, train_size=.8)\n",
      "train_data.shape"
     ],
     "language": "python",
     "metadata": {},
     "outputs": [
      {
       "metadata": {},
       "output_type": "pyout",
       "prompt_number": 37,
       "text": [
        "(404L, 13L)"
       ]
      }
     ],
     "prompt_number": 37
    },
    {
     "cell_type": "code",
     "collapsed": false,
     "input": [
      "from sklearn import datasets\n",
      "boston = datasets.load_boston()\n",
      "X = boston.data\n",
      "y = boston.target\n",
      "\n",
      "print X.shape\n",
      "print y.shape"
     ],
     "language": "python",
     "metadata": {},
     "outputs": [
      {
       "output_type": "stream",
       "stream": "stdout",
       "text": [
        "(506L, 13L)\n",
        "(506L,)\n"
       ]
      }
     ],
     "prompt_number": 38
    },
    {
     "cell_type": "code",
     "collapsed": false,
     "input": [
      "plt.hist(y, alpha=1.0)\n",
      "plt.show()"
     ],
     "language": "python",
     "metadata": {},
     "outputs": [
      {
       "metadata": {},
       "output_type": "display_data",
       "png": "[encoded data removed]",
       "text": [
        "<matplotlib.figure.Figure at 0x1687c7b8>"
       ]
      }
     ],
     "prompt_number": 39
    },
    {
     "cell_type": "code",
     "collapsed": false,
     "input": [],
     "language": "python",
     "metadata": {},
     "outputs": [],
     "prompt_number": 78
    },
    {
     "cell_type": "code",
     "collapsed": false,
     "input": [
      "from sklearn import linear_model\n",
      "linreg = linear_model.LinearRegression()"
     ],
     "language": "python",
     "metadata": {},
     "outputs": [],
     "prompt_number": 20
    },
    {
     "cell_type": "code",
     "collapsed": false,
     "input": [
      "_=linreg.fit(train_data, train_target)"
     ],
     "language": "python",
     "metadata": {},
     "outputs": [],
     "prompt_number": 21
    },
    {
     "cell_type": "code",
     "collapsed": false,
     "input": [
      "from sklearn import metrics\n",
      "mse = metrics.mean_squared_error(test_target, linreg.predict(test_data)) \n",
      "print(\"MSE is {}\".format(mse))"
     ],
     "language": "python",
     "metadata": {},
     "outputs": [
      {
       "output_type": "stream",
       "stream": "stdout",
       "text": [
        "MSE is 19.8236289542\n"
       ]
      }
     ],
     "prompt_number": 29
    },
    {
     "cell_type": "code",
     "collapsed": false,
     "input": [
      "rmse = np.sqrt(mse) \n",
      "print(\"RMSE is {}\".format(rmse))"
     ],
     "language": "python",
     "metadata": {},
     "outputs": [
      {
       "output_type": "stream",
       "stream": "stdout",
       "text": [
        "RMSE is 4.45237340687\n"
       ]
      }
     ],
     "prompt_number": 30
    },
    {
     "cell_type": "code",
     "collapsed": false,
     "input": [
      "linreg.fit(train_data, train_target)\n",
      "r2_train = metrics.r2_score(train_target, linreg.predict(train_data))\n",
      "r2_test = metrics.r2_score(test_target, linreg.predict(test_data))\n",
      "\n",
      "print(\"R2 on training: {:.2%}\".format(r2_train))\n",
      "print(\"R2 on testing: {:.2%}\".format(r2_test))"
     ],
     "language": "python",
     "metadata": {},
     "outputs": [
      {
       "output_type": "stream",
       "stream": "stdout",
       "text": [
        "R2 on training: 75.96%\n",
        "R2 on testing: 66.59%\n"
       ]
      }
     ],
     "prompt_number": 43
    },
    {
     "cell_type": "code",
     "collapsed": false,
     "input": [
      "lasso = linear_model.Lasso()\n",
      "lasso.fit(train_data, train_target)"
     ],
     "language": "python",
     "metadata": {},
     "outputs": [
      {
       "metadata": {},
       "output_type": "pyout",
       "prompt_number": 44,
       "text": [
        "Lasso(alpha=1.0, copy_X=True, fit_intercept=True, max_iter=1000,\n",
        "   normalize=False, positive=False, precompute='auto', tol=0.0001,\n",
        "   warm_start=False)"
       ]
      }
     ],
     "prompt_number": 44
    },
    {
     "cell_type": "code",
     "collapsed": false,
     "input": [
      "lasso = linear_model.Lasso(alpha=0.1)\n",
      "lasso.fit(train_data, train_target)"
     ],
     "language": "python",
     "metadata": {},
     "outputs": [
      {
       "metadata": {},
       "output_type": "pyout",
       "prompt_number": 45,
       "text": [
        "Lasso(alpha=0.1, copy_X=True, fit_intercept=True, max_iter=1000,\n",
        "   normalize=False, positive=False, precompute='auto', tol=0.0001,\n",
        "   warm_start=False)"
       ]
      }
     ],
     "prompt_number": 45
    },
    {
     "cell_type": "code",
     "collapsed": false,
     "input": [
      "fig,ax = plt.subplots()\n",
      "ax.plot(train_data.ptp(axis=0))\n",
      "ax.set_xticklabels(boston.feature_names)\n",
      "ax.set_xticks(np.arange(train_data.shape[1]))\n",
      "ax.set_ylabel('Max-min')"
     ],
     "language": "python",
     "metadata": {},
     "outputs": [
      {
       "metadata": {},
       "output_type": "pyout",
       "prompt_number": 46,
       "text": [
        "<matplotlib.text.Text at 0x164d3128>"
       ]
      },
      {
       "metadata": {},
       "output_type": "display_data",
       "png": "[encoded data removed]",
       "text": [
        "<matplotlib.figure.Figure at 0x1687c710>"
       ]
      }
     ],
     "prompt_number": 46
    },
    {
     "cell_type": "code",
     "collapsed": false,
     "input": [
      "lasso = linear_model.Lasso(normalize=True, alpha=1.0)\n",
      "lasso.fit(train_data, train_target)"
     ],
     "language": "python",
     "metadata": {},
     "outputs": [
      {
       "metadata": {},
       "output_type": "pyout",
       "prompt_number": 47,
       "text": [
        "Lasso(alpha=1.0, copy_X=True, fit_intercept=True, max_iter=1000,\n",
        "   normalize=True, positive=False, precompute='auto', tol=0.0001,\n",
        "   warm_start=False)"
       ]
      }
     ],
     "prompt_number": 47
    },
    {
     "cell_type": "code",
     "collapsed": false,
     "input": [
      "lasso = linear_model.Lasso(normalize=True, alpha=10.0)\n",
      "lasso.fit(train_data, train_target)"
     ],
     "language": "python",
     "metadata": {},
     "outputs": [
      {
       "metadata": {},
       "output_type": "pyout",
       "prompt_number": 48,
       "text": [
        "Lasso(alpha=10.0, copy_X=True, fit_intercept=True, max_iter=1000,\n",
        "   normalize=True, positive=False, precompute='auto', tol=0.0001,\n",
        "   warm_start=False)"
       ]
      }
     ],
     "prompt_number": 48
    },
    {
     "cell_type": "code",
     "collapsed": false,
     "input": [
      "lasso = linear_model.Lasso(normalize=True, alpha=15.0)\n",
      "lasso.fit(train_data, train_target)"
     ],
     "language": "python",
     "metadata": {},
     "outputs": [
      {
       "metadata": {},
       "output_type": "pyout",
       "prompt_number": 49,
       "text": [
        "Lasso(alpha=15.0, copy_X=True, fit_intercept=True, max_iter=1000,\n",
        "   normalize=True, positive=False, precompute='auto', tol=0.0001,\n",
        "   warm_start=False)"
       ]
      }
     ],
     "prompt_number": 49
    },
    {
     "cell_type": "code",
     "collapsed": false,
     "input": [
      "lasso = linear_model.Lasso(normalize=True, alpha=1.0)\n",
      "lasso.fit(train_data, train_target)"
     ],
     "language": "python",
     "metadata": {},
     "outputs": [
      {
       "metadata": {},
       "output_type": "pyout",
       "prompt_number": 50,
       "text": [
        "Lasso(alpha=1.0, copy_X=True, fit_intercept=True, max_iter=1000,\n",
        "   normalize=True, positive=False, precompute='auto', tol=0.0001,\n",
        "   warm_start=False)"
       ]
      }
     ],
     "prompt_number": 50
    },
    {
     "cell_type": "code",
     "collapsed": false,
     "input": [
      "results = \"\"\"\\\n",
      "      | TRAINING | TESTING\n",
      "------+----------+---------\n",
      "Lasso | {:.2%}   | {:.2%}\n",
      "---------------------------\n",
      "\"\"\".format(r2_lasso_train, r2_lasso)\n",
      "print(results)"
     ],
     "language": "python",
     "metadata": {},
     "outputs": [
      {
       "output_type": "stream",
       "stream": "stderr",
       "text": [
        "ERROR: An unexpected error occurred while tokenizing input\n",
        "The following traceback may be corrupted or invalid\n",
        "The error message is: ('EOF in multi-line string', (1, 0))\n",
        "\n"
       ]
      },
      {
       "ename": "NameError",
       "evalue": "name 'r2_lasso_train' is not defined",
       "output_type": "pyerr",
       "traceback": [
        "\u001b[1;31m---------------------------------------------------------------------------\u001b[0m\n\u001b[1;31mNameError\u001b[0m                                 Traceback (most recent call last)",
        "\u001b[1;32m<ipython-input-53-7597d6c9e6fa>\u001b[0m in \u001b[0;36m<module>\u001b[1;34m()\u001b[0m\n\u001b[0;32m      3\u001b[0m \u001b[0mLasso\u001b[0m \u001b[1;33m|\u001b[0m \u001b[1;33m{\u001b[0m\u001b[1;33m:\u001b[0m\u001b[1;36m.2\u001b[0m\u001b[1;33m%\u001b[0m\u001b[1;33m}\u001b[0m   \u001b[1;33m|\u001b[0m \u001b[1;33m{\u001b[0m\u001b[1;33m:\u001b[0m\u001b[1;36m.2\u001b[0m\u001b[1;33m%\u001b[0m\u001b[1;33m}\u001b[0m\u001b[1;33m\u001b[0m\u001b[0m\n\u001b[0;32m      4\u001b[0m \u001b[1;33m-\u001b[0m\u001b[1;33m-\u001b[0m\u001b[1;33m-\u001b[0m\u001b[1;33m-\u001b[0m\u001b[1;33m-\u001b[0m\u001b[1;33m-\u001b[0m\u001b[1;33m-\u001b[0m\u001b[1;33m-\u001b[0m\u001b[1;33m-\u001b[0m\u001b[1;33m-\u001b[0m\u001b[1;33m-\u001b[0m\u001b[1;33m-\u001b[0m\u001b[1;33m-\u001b[0m\u001b[1;33m-\u001b[0m\u001b[1;33m-\u001b[0m\u001b[1;33m-\u001b[0m\u001b[1;33m-\u001b[0m\u001b[1;33m-\u001b[0m\u001b[1;33m-\u001b[0m\u001b[1;33m-\u001b[0m\u001b[1;33m-\u001b[0m\u001b[1;33m-\u001b[0m\u001b[1;33m-\u001b[0m\u001b[1;33m-\u001b[0m\u001b[1;33m-\u001b[0m\u001b[1;33m-\u001b[0m\u001b[1;33m-\u001b[0m\u001b[1;33m\u001b[0m\u001b[0m\n\u001b[1;32m----> 5\u001b[1;33m \"\"\".format(r2_lasso_train, r2_lasso)\n\u001b[0m\u001b[0;32m      6\u001b[0m \u001b[1;32mprint\u001b[0m\u001b[1;33m(\u001b[0m\u001b[0mresults\u001b[0m\u001b[1;33m)\u001b[0m\u001b[1;33m\u001b[0m\u001b[0m\n",
        "\u001b[1;31mNameError\u001b[0m: name 'r2_lasso_train' is not defined"
       ]
      }
     ],
     "prompt_number": 53
    },
    {
     "cell_type": "code",
     "collapsed": false,
     "input": [
      "lasso.fit(train_data, train_target)\n",
      "r2_lasso_train = lasso.score(train_data, train_target)\n",
      "r2_lasso = lasso.score(test_data, test_target)"
     ],
     "language": "python",
     "metadata": {},
     "outputs": [],
     "prompt_number": 54
    },
    {
     "cell_type": "code",
     "collapsed": false,
     "input": [
      "results = \"\"\"\\\n",
      "      | TRAINING | TESTING\n",
      "------+----------+---------\n",
      "Lasso | {:.2%}   | {:.2%}\n",
      "---------------------------\n",
      "\"\"\".format(r2_lasso_train, r2_lasso)\n",
      "print(results)"
     ],
     "language": "python",
     "metadata": {},
     "outputs": [
      {
       "output_type": "stream",
       "stream": "stdout",
       "text": [
        "      | TRAINING | TESTING\n",
        "------+----------+---------\n",
        "Lasso | 0.00%   | -1.58%\n",
        "---------------------------\n",
        "\n"
       ]
      }
     ],
     "prompt_number": 55
    },
    {
     "cell_type": "code",
     "collapsed": false,
     "input": [
      "lasso = linear_model.Lasso(normalize=True, alpha=10.0)\n",
      "lasso.fit(train_data, train_target)"
     ],
     "language": "python",
     "metadata": {},
     "outputs": [
      {
       "metadata": {},
       "output_type": "pyout",
       "prompt_number": 56,
       "text": [
        "Lasso(alpha=10.0, copy_X=True, fit_intercept=True, max_iter=1000,\n",
        "   normalize=True, positive=False, precompute='auto', tol=0.0001,\n",
        "   warm_start=False)"
       ]
      }
     ],
     "prompt_number": 56
    },
    {
     "cell_type": "code",
     "collapsed": false,
     "input": [
      "lasso.fit(train_data, train_target)\n",
      "r2_lasso_train = lasso.score(train_data, train_target)\n",
      "r2_lasso = lasso.score(test_data, test_target)"
     ],
     "language": "python",
     "metadata": {},
     "outputs": [],
     "prompt_number": 57
    },
    {
     "cell_type": "code",
     "collapsed": false,
     "input": [
      "results = \"\"\"\\\n",
      "      | TRAINING | TESTING\n",
      "------+----------+---------\n",
      "Lasso | {:.5%}   | {:.5%}\n",
      "---------------------------\n",
      "\"\"\".format(r2_lasso_train, r2_lasso)\n",
      "print(results)"
     ],
     "language": "python",
     "metadata": {},
     "outputs": [
      {
       "output_type": "stream",
       "stream": "stdout",
       "text": [
        "      | TRAINING | TESTING\n",
        "------+----------+---------\n",
        "Lasso | 0.00000%   | -1.58188%\n",
        "---------------------------\n",
        "\n"
       ]
      }
     ],
     "prompt_number": 58
    },
    {
     "cell_type": "code",
     "collapsed": false,
     "input": [
      "results = \"\"\"\\\n",
      "      | TRAINING | TESTING\n",
      "------+----------+---------\n",
      "Lasso | {:.2%}   | {:.2%}\n",
      "---------------------------\n",
      "\"\"\".format(r2_lasso_train, r2_lasso)\n",
      "print(results)"
     ],
     "language": "python",
     "metadata": {},
     "outputs": [
      {
       "output_type": "stream",
       "stream": "stdout",
       "text": [
        "      | TRAINING | TESTING\n",
        "------+----------+---------\n",
        "Lasso | 0.00%   | -1.58%\n",
        "---------------------------\n",
        "\n"
       ]
      }
     ],
     "prompt_number": 59
    },
    {
     "cell_type": "code",
     "collapsed": false,
     "input": [
      "lasso = linear_model.Lasso(normalize=True, alpha=1.0)\n",
      "lasso.fit(train_data, train_target)"
     ],
     "language": "python",
     "metadata": {},
     "outputs": [
      {
       "metadata": {},
       "output_type": "pyout",
       "prompt_number": 60,
       "text": [
        "Lasso(alpha=1.0, copy_X=True, fit_intercept=True, max_iter=1000,\n",
        "   normalize=True, positive=False, precompute='auto', tol=0.0001,\n",
        "   warm_start=False)"
       ]
      }
     ],
     "prompt_number": 60
    },
    {
     "cell_type": "code",
     "collapsed": false,
     "input": [
      "lasso.fit(train_data, train_target)\n",
      "r2_lasso_train = lasso.score(train_data, train_target)\n",
      "r2_lasso = lasso.score(test_data, test_target)"
     ],
     "language": "python",
     "metadata": {},
     "outputs": [],
     "prompt_number": 61
    },
    {
     "cell_type": "code",
     "collapsed": false,
     "input": [
      "results = \"\"\"\\\n",
      "      | TRAINING | TESTING\n",
      "------+----------+---------\n",
      "Lasso | {:.2%}   | {:.2%}\n",
      "---------------------------\n",
      "\"\"\".format(r2_lasso_train, r2_lasso)\n",
      "print(results)"
     ],
     "language": "python",
     "metadata": {},
     "outputs": [
      {
       "output_type": "stream",
       "stream": "stdout",
       "text": [
        "      | TRAINING | TESTING\n",
        "------+----------+---------\n",
        "Lasso | 0.00%   | -1.58%\n",
        "---------------------------\n",
        "\n"
       ]
      }
     ],
     "prompt_number": 62
    },
    {
     "cell_type": "code",
     "collapsed": false,
     "input": [
      "ridge = linear_model.Ridge(normalize=True, alpha=.1)\n",
      "\n",
      "ridge.fit(train_data, train_target)\n",
      "r2_ridge_train = ridge.score(train_data, train_target)\n",
      "r2_ridge = ridge.score(test_data, test_target)"
     ],
     "language": "python",
     "metadata": {},
     "outputs": [],
     "prompt_number": 63
    },
    {
     "cell_type": "code",
     "collapsed": false,
     "input": [
      "results = \"\"\"\\\n",
      "      | TRAINING | TESTING\n",
      "------+----------+---------\n",
      "Lasso | {:.2%}   | {:.2%}\n",
      "------+----------+---------\n",
      "Ridge | {:.2%}   | {:.2%}\n",
      "---------------------------\n",
      "\"\"\".format(r2_lasso_train, r2_lasso,\n",
      "           r2_ridge_train, r2_ridge)\n",
      "print(results)"
     ],
     "language": "python",
     "metadata": {},
     "outputs": [
      {
       "output_type": "stream",
       "stream": "stdout",
       "text": [
        "      | TRAINING | TESTING\n",
        "------+----------+---------\n",
        "Lasso | 0.00%   | -1.58%\n",
        "------+----------+---------\n",
        "Ridge | 75.25%   | 63.55%\n",
        "---------------------------\n",
        "\n"
       ]
      }
     ],
     "prompt_number": 64
    },
    {
     "cell_type": "code",
     "collapsed": false,
     "input": [
      "lasso = linear_model.Lasso(normalize=True, alpha=0.1)\n",
      "lasso.fit(train_data, train_target)"
     ],
     "language": "python",
     "metadata": {},
     "outputs": [
      {
       "metadata": {},
       "output_type": "pyout",
       "prompt_number": 65,
       "text": [
        "Lasso(alpha=0.1, copy_X=True, fit_intercept=True, max_iter=1000,\n",
        "   normalize=True, positive=False, precompute='auto', tol=0.0001,\n",
        "   warm_start=False)"
       ]
      }
     ],
     "prompt_number": 65
    },
    {
     "cell_type": "code",
     "collapsed": false,
     "input": [
      "lasso.fit(train_data, train_target)\n",
      "\n",
      "r2_lasso_train = lasso.score(train_data, train_target)\n",
      "r2_lasso = lasso.score(test_data, test_target)"
     ],
     "language": "python",
     "metadata": {},
     "outputs": [],
     "prompt_number": 66
    },
    {
     "cell_type": "code",
     "collapsed": false,
     "input": [
      "results = \"\"\"\\\n",
      "      | TRAINING | TESTING\n",
      "------+----------+---------\n",
      "Lasso | {:.2%}   | {:.2%}\n",
      "---------------------------\n",
      "\"\"\".format(r2_lasso_train, r2_lasso)\n",
      "print(results)"
     ],
     "language": "python",
     "metadata": {},
     "outputs": [
      {
       "output_type": "stream",
       "stream": "stdout",
       "text": [
        "      | TRAINING | TESTING\n",
        "------+----------+---------\n",
        "Lasso | 62.48%   | 49.98%\n",
        "---------------------------\n",
        "\n"
       ]
      }
     ],
     "prompt_number": 67
    },
    {
     "cell_type": "code",
     "collapsed": false,
     "input": [
      "results = \"\"\"\\\n",
      "      | TRAINING | TESTING\n",
      "------+----------+---------\n",
      "Lasso | {:.2%}   | {:.2%}\n",
      "------+----------+---------\n",
      "Ridge | {:.2%}   | {:.2%}\n",
      "---------------------------\n",
      "\"\"\".format(r2_lasso_train, r2_lasso,\n",
      "           r2_ridge_train, r2_ridge)\n",
      "print(results)"
     ],
     "language": "python",
     "metadata": {},
     "outputs": [
      {
       "output_type": "stream",
       "stream": "stdout",
       "text": [
        "      | TRAINING | TESTING\n",
        "------+----------+---------\n",
        "Lasso | 62.48%   | 49.98%\n",
        "------+----------+---------\n",
        "Ridge | 75.25%   | 63.55%\n",
        "---------------------------\n",
        "\n"
       ]
      }
     ],
     "prompt_number": 68
    },
    {
     "cell_type": "code",
     "collapsed": false,
     "input": [
      "lasso.alpha = 0.1\n",
      "lasso.fit(train_data, train_target)\n",
      "ridge.alpha = 0.1\n",
      "ridge.fit(train_data, train_target)"
     ],
     "language": "python",
     "metadata": {},
     "outputs": [
      {
       "metadata": {},
       "output_type": "pyout",
       "prompt_number": 69,
       "text": [
        "Ridge(alpha=0.1, copy_X=True, fit_intercept=True, max_iter=None,\n",
        "   normalize=True, solver='auto', tol=0.001)"
       ]
      }
     ],
     "prompt_number": 69
    },
    {
     "cell_type": "code",
     "collapsed": false,
     "input": [
      "fig,ax = plt.subplots()\n",
      "ax.plot(lasso.coef_, label=r'Lasso ($\\alpha$=0.1)')\n",
      "ax.plot(ridge.coef_, label=r'Ridge ($\\alpha$=0.1)')\n",
      "ax.set_xticklabels(boston.feature_names)\n",
      "ax.set_xticks(np.arange(train_data.shape[1]))\n",
      "ax.legend(loc='best')"
     ],
     "language": "python",
     "metadata": {},
     "outputs": [
      {
       "metadata": {},
       "output_type": "pyout",
       "prompt_number": 70,
       "text": [
        "<matplotlib.legend.Legend at 0x168d3b38>"
       ]
      },
      {
       "metadata": {},
       "output_type": "display_data",
       "png": "[encoded data removed]",
       "text": [
        "<matplotlib.figure.Figure at 0x163ce748>"
       ]
      }
     ],
     "prompt_number": 70
    },
    {
     "cell_type": "code",
     "collapsed": false,
     "input": [
      "fig,ax = plt.subplots()\n",
      "ax.plot(lasso.coef_, label=r'Lasso ($\\alpha$=10.0)')\n",
      "ax.plot(ridge.coef_, label=r'Ridge ($\\alpha$=10.0)')\n",
      "ax.set_xticklabels(boston.feature_names)\n",
      "ax.set_xticks(np.arange(train_data.shape[1]))\n",
      "ax.legend(loc='best')"
     ],
     "language": "python",
     "metadata": {},
     "outputs": [
      {
       "metadata": {},
       "output_type": "pyout",
       "prompt_number": 71,
       "text": [
        "<matplotlib.legend.Legend at 0x1687c898>"
       ]
      },
      {
       "metadata": {},
       "output_type": "display_data",
       "png": "[encoded data removed]",
       "text": [
        "<matplotlib.figure.Figure at 0x16761128>"
       ]
      }
     ],
     "prompt_number": 71
    },
    {
     "cell_type": "code",
     "collapsed": false,
     "input": [
      "from sklearn.metrics import r2_score\n",
      "y_true = [3, -0.5, 2, 7]\n",
      "y_pred = [2.5, 0.0, 2, 8]\n",
      "r2_score(y_true, y_pred)  "
     ],
     "language": "python",
     "metadata": {},
     "outputs": [
      {
       "metadata": {},
       "output_type": "pyout",
       "prompt_number": 72,
       "text": [
        "0.94860813704496794"
       ]
      }
     ],
     "prompt_number": 72
    },
    {
     "cell_type": "code",
     "collapsed": false,
     "input": [
      "from sklearn.metrics import mean_squared_error\n",
      "y_true = [3, -1, 6, 4]\n",
      "y_pred = [2.5, 1, 2, 8]\n",
      "mean_squared_error(y_true, y_pred)"
     ],
     "language": "python",
     "metadata": {},
     "outputs": [
      {
       "metadata": {},
       "output_type": "pyout",
       "prompt_number": 73,
       "text": [
        "9.0625"
       ]
      }
     ],
     "prompt_number": 73
    },
    {
     "cell_type": "code",
     "collapsed": false,
     "input": [
      "y_true = [[-0.5, 1],[-1, 1],[7, -6]]\n",
      "y_pred = [[0, -2],[-1, 2],[8, -5]]\n",
      "mean_squared_error(y_true, y_pred)"
     ],
     "language": "python",
     "metadata": {},
     "outputs": [
      {
       "metadata": {},
       "output_type": "pyout",
       "prompt_number": 78,
       "text": [
        "2.0416666666666665"
       ]
      }
     ],
     "prompt_number": 78
    },
    {
     "cell_type": "code",
     "collapsed": false,
     "input": [],
     "language": "python",
     "metadata": {},
     "outputs": [],
     "prompt_number": 78
    },
    {
     "cell_type": "code",
     "collapsed": false,
     "input": [],
     "language": "python",
     "metadata": {},
     "outputs": []
    }
   ],
   "metadata": {}
  }
 ]
}